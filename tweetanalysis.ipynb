{
 "cells": [
  {
   "cell_type": "markdown",
   "id": "0b7422b9-6e05-4593-bdde-5f1e623c9dd1",
   "metadata": {
    "id": "0b7422b9-6e05-4593-bdde-5f1e623c9dd1"
   },
   "source": [
    "# Prerequisites"
   ]
  },
  {
   "cell_type": "markdown",
   "id": "71139896-4b3d-4159-9f4d-af64a737d17d",
   "metadata": {
    "id": "71139896-4b3d-4159-9f4d-af64a737d17d"
   },
   "source": [
    "## STOP! Please read this before you execute any further cells,\n",
    "if you are running on a personal computer, run the following cell:"
   ]
  },
  {
   "cell_type": "code",
   "execution_count": null,
   "id": "af56c6a7-6ff6-44b7-adeb-70c088ebd625",
   "metadata": {
    "id": "af56c6a7-6ff6-44b7-adeb-70c088ebd625"
   },
   "outputs": [],
   "source": [
    "!pip install -r requirements.txt"
   ]
  },
  {
   "cell_type": "markdown",
   "id": "b9aa9674-fbe8-4149-b452-62b00f4a57b1",
   "metadata": {
    "id": "b9aa9674-fbe8-4149-b452-62b00f4a57b1"
   },
   "source": [
    "if you are running on Google Colab, you already have everything installed except datasets,\n",
    "run the following cell:"
   ]
  },
  {
   "cell_type": "code",
   "execution_count": null,
   "id": "8c6156b9-4b78-4226-9635-931a5b397e3c",
   "metadata": {
    "id": "8c6156b9-4b78-4226-9635-931a5b397e3c"
   },
   "outputs": [],
   "source": [
    "!pip install datasets"
   ]
  },
  {
   "cell_type": "markdown",
   "id": "7dca67cc-fabe-403f-9117-4e8d8ac06a66",
   "metadata": {
    "id": "7dca67cc-fabe-403f-9117-4e8d8ac06a66"
   },
   "source": [
    "# Imports"
   ]
  },
  {
   "cell_type": "code",
   "execution_count": 1,
   "id": "e5827587-f0ec-4102-86a2-fcc2070189bf",
   "metadata": {
    "id": "e5827587-f0ec-4102-86a2-fcc2070189bf"
   },
   "outputs": [],
   "source": [
    "# for data loading\n",
    "import pandas as pd\n",
    "import numpy as np\n",
    "\n",
    "# for data cleaning\n",
    "import re\n",
    "import nltk\n",
    "from nltk.corpus import stopwords\n",
    "from nltk.tokenize import RegexpTokenizer\n",
    "\n",
    "# for test handling\n",
    "from sklearn.model_selection import train_test_split\n",
    "\n",
    "# transformers/ encoders\n",
    "from sklearn.feature_extraction.text import TfidfVectorizer, CountVectorizer\n",
    "\n",
    "# our classifiers\n",
    "from sklearn.linear_model import LogisticRegression\n",
    "from sklearn.svm import SVC\n",
    "from sklearn.naive_bayes import BernoulliNB, MultinomialNB\n",
    "from sklearn.ensemble import RandomForestClassifier, ExtraTreesClassifier\n",
    "from sklearn.pipeline import Pipeline\n",
    "\n",
    "# metrics\n",
    "from sklearn.metrics import classification_report\n",
    "\n",
    "# for the roberta classifier using hugging face APIs and torch\n",
    "import joblib\n",
    "from sklearn.preprocessing import LabelEncoder\n",
    "from transformers import AdamW, get_scheduler, AutoTokenizer, AutoModelForSequenceClassification\n",
    "from torch.utils.data import DataLoader\n",
    "import torch\n",
    "from tqdm import tqdm\n",
    "from sklearn.base import BaseEstimator, TransformerMixin, ClassifierMixin, clone\n",
    "from sklearn.compose import ColumnTransformer\n",
    "from sklearn.model_selection import GridSearchCV"
   ]
  },
  {
   "cell_type": "markdown",
   "id": "2cf9c584-3c70-4de9-a413-b3282ad8ee5b",
   "metadata": {
    "id": "2cf9c584-3c70-4de9-a413-b3282ad8ee5b"
   },
   "source": [
    "# Read data and basic cleaning"
   ]
  },
  {
   "cell_type": "code",
   "execution_count": 2,
   "id": "0f918bf3-f76f-4feb-908d-d72b820aa00c",
   "metadata": {
    "id": "0f918bf3-f76f-4feb-908d-d72b820aa00c"
   },
   "outputs": [],
   "source": [
    "sheet_names = [\"Obama\", \"Romney\"]\n",
    "df = {}\n",
    "for sheet in sheet_names:\n",
    "    # rename columns, drop useless columns, format data, remove duplicates\n",
    "    sh = pd.read_excel('./training-Obama-Romney-tweets.xlsx', usecols=\"D:E\", sheet_name=sheet)\n",
    "    sh.rename(columns={\"Anootated tweet\": \"tweet\", \"Unnamed: 4\": \"class\"}, inplace=True)\n",
    "    sh.drop(0, inplace=True)\n",
    "    sh.drop(sh.loc[sh[\"tweet\"].isna()].index, inplace=True)\n",
    "    sh['class'] = sh['class'].astype(str)\n",
    "    sh.drop(sh.loc[~sh[\"class\"].isin(['1', '0', '-1'])].index, inplace=True)\n",
    "    sh.drop_duplicates(inplace=True)\n",
    "    sh['class'] = sh['class'].astype(int)\n",
    "    sh['tweet'] = sh['tweet'].astype(str)\n",
    "    df[sheet] = sh"
   ]
  },
  {
   "cell_type": "markdown",
   "id": "138f0aed-ba77-4116-b31d-cfa04965c750",
   "metadata": {
    "id": "138f0aed-ba77-4116-b31d-cfa04965c750"
   },
   "source": [
    "# Data Cleaning"
   ]
  },
  {
   "cell_type": "code",
   "execution_count": 3,
   "id": "f2f028d8-3898-43af-a996-8446ecbc996f",
   "metadata": {
    "colab": {
     "base_uri": "https://localhost:8080/"
    },
    "id": "f2f028d8-3898-43af-a996-8446ecbc996f",
    "outputId": "943f2ce5-4de7-40e6-b19a-28609f67b177"
   },
   "outputs": [
    {
     "name": "stderr",
     "output_type": "stream",
     "text": [
      "[nltk_data] Downloading package stopwords to /root/nltk_data...\n",
      "[nltk_data]   Unzipping corpora/stopwords.zip.\n",
      "[nltk_data] Downloading package wordnet to /root/nltk_data...\n"
     ]
    }
   ],
   "source": [
    "nltk.download('stopwords')\n",
    "nltk.download('wordnet')\n",
    "stop_words = set(stopwords.words('english'))\n",
    "tokenizer = RegexpTokenizer(r'\\S+')\n",
    "st = nltk.PorterStemmer()\n",
    "lm = nltk.WordNetLemmatizer()\n",
    "\n",
    "# preprocessing lambda, to be used to run against a pandas dataframe, you can selectively turn on and off the respective cleaning tools\n",
    "def preprocessing(x,\n",
    "                  removeHtmlTags=True,\n",
    "                  removeUrlLinks=True,\n",
    "                  removeMentions=False,\n",
    "                  removeHashtags=False,\n",
    "                  removeNonWords=False,\n",
    "                  removeSpecialSymbols=False,\n",
    "                  removeSmallWords=0,\n",
    "                  removeStopWords=False,\n",
    "                  stemWords=False,\n",
    "                  lemmatizeWords=False):\n",
    "    if removeHtmlTags: x=re.sub(r'<[^>]+>', '', x)\n",
    "    if removeUrlLinks: x=re.sub(r'http\\S+', '', x)\n",
    "    if removeUrlLinks: x=re.sub(r'www\\S+', '', x)\n",
    "    if removeSpecialSymbols: x=re.sub(r'[@#]+', '', x)\n",
    "    if removeMentions: x=re.sub(r'@\\S+', '', x)\n",
    "    if removeHashtags: x=re.sub(r'#\\S+', '', x)\n",
    "    if removeNonWords: x=re.sub(r'\\W+', ' ', x)\n",
    "    if removeSmallWords != 0: x=' '.join([w for w in x.split() if len(w)>removeSmallWords])\n",
    "    if removeStopWords: x = \" \".join([word for word in str(x).split() if word not in stop_words])\n",
    "    x = tokenizer.tokenize(x)\n",
    "    if stemWords: x = [st.stem(word) for word in x]\n",
    "    if lemmatizeWords: x = [lm.lemmatize(word) for word in x]\n",
    "    return ' '.join(x)\n",
    "\n",
    "class TextPreprocessor(BaseEstimator, TransformerMixin):\n",
    "    def __init__(self,\n",
    "                 removeHtmlTags=True,\n",
    "                 removeUrlLinks=True,\n",
    "                 removeMentions=False,\n",
    "                 removeHashtags=False,\n",
    "                 removeSpecialSymbols=False,\n",
    "                 removeNonWords=False,\n",
    "                 removeSmallWords=0,\n",
    "                 removeStopWords=False,\n",
    "                 stemWords=False,\n",
    "                 lemmatizeWords=False):\n",
    "        self.removeHtmlTags = removeHashtags\n",
    "        self.removeUrlLinks = removeUrlLinks\n",
    "        self.removeMentions = removeMentions\n",
    "        self.removeHashtags = removeHashtags\n",
    "        self.removeNonWords = removeNonWords\n",
    "        self.removeSmallWords = removeSmallWords\n",
    "        self.removeStopWords = removeStopWords\n",
    "        self.stemWords = stemWords\n",
    "        self.lemmatizeWords = lemmatizeWords\n",
    "        self.removeSpecialSymbols = removeSpecialSymbols\n",
    "\n",
    "    def fit(self, X, y=None):\n",
    "        return self\n",
    "\n",
    "    def transform(self, X):\n",
    "        return X.apply(preprocessing,\n",
    "                                args=(self.removeHtmlTags,\n",
    "                                self.removeUrlLinks,\n",
    "                                self.removeMentions,\n",
    "                                self.removeHashtags,\n",
    "                                self.removeNonWords,\n",
    "                                self.removeSpecialSymbols,\n",
    "                                self.removeSmallWords,\n",
    "                                self.removeStopWords,\n",
    "                                self.stemWords,\n",
    "                                self.lemmatizeWords))"
   ]
  },
  {
   "cell_type": "markdown",
   "id": "34fc0839-497d-4e22-a4c6-d184a402b066",
   "metadata": {
    "id": "34fc0839-497d-4e22-a4c6-d184a402b066"
   },
   "source": [
    "# Hugging Face Classifier Adapter"
   ]
  },
  {
   "cell_type": "code",
   "execution_count": 4,
   "id": "a5a7001f-5cd4-40be-90b0-6519b9a52a0e",
   "metadata": {
    "id": "a5a7001f-5cd4-40be-90b0-6519b9a52a0e"
   },
   "outputs": [],
   "source": [
    "def preprocess(text):\n",
    "    new_text = []\n",
    "\n",
    "    for t in text.split(\" \"):\n",
    "        t = '@user' if t.startswith('@') and len(t) > 1 else t\n",
    "        t = 'http' if t.startswith('http') else t\n",
    "        new_text.append(t)\n",
    "    return \" \".join(new_text)\n",
    "\n",
    "class HuggingFacePreprocessor(BaseEstimator, TransformerMixin):\n",
    "\n",
    "    def fit(self, X, y=None):\n",
    "        return self\n",
    "\n",
    "    def transform(self, X):\n",
    "        return X.apply(preprocess)\n",
    "\n",
    "class HuggingFaceClassifier(BaseEstimator, ClassifierMixin):\n",
    "    def __init__(self, model_name, num_labels=3, epochs=3, batch_size=16, lr=5e-5, max_length=128):\n",
    "        self.epochs = epochs\n",
    "        self.batch_size = batch_size\n",
    "        self.model_name = model_name\n",
    "        self.num_labels = num_labels\n",
    "        self.lr = lr\n",
    "        self.max_length = max_length\n",
    "        self.device = \"cuda\" if torch.cuda.is_available() else \"cpu\"\n",
    "        self.tokenizer = AutoTokenizer.from_pretrained(model_name)\n",
    "        self.model = AutoModelForSequenceClassification.from_pretrained(model_name, num_labels=num_labels)\n",
    "        self.enc = LabelEncoder()\n",
    "\n",
    "    def fit(self, X, y):\n",
    "        # Tokenize the data\n",
    "        encodings = self.tokenizer(list(X), truncation=True, padding=True, max_length=self.max_length, return_tensors=\"pt\")\n",
    "        y_labels = self.enc.fit_transform(y)\n",
    "        labels = torch.tensor(y_labels, dtype=torch.long)\n",
    "\n",
    "        dataset = torch.utils.data.TensorDataset(encodings[\"input_ids\"], encodings[\"attention_mask\"], labels)\n",
    "        dataloader = torch.utils.data.DataLoader(dataset, batch_size=self.batch_size, shuffle=True)\n",
    "\n",
    "        # Set up optimizer and scheduler\n",
    "        optimizer = AdamW(self.model.parameters(), lr=self.lr)\n",
    "        num_training_steps = len(dataloader) * self.epochs\n",
    "        lr_scheduler = get_scheduler(\"linear\", optimizer=optimizer, num_warmup_steps=0, num_training_steps=num_training_steps)\n",
    "\n",
    "        self.model.to(self.device)\n",
    "        self.model.train()\n",
    "\n",
    "        # Training loop\n",
    "        progress_bar = tqdm(range(num_training_steps), desc=\"Training\")\n",
    "        for epoch in range(self.epochs):\n",
    "            for batch in dataloader:\n",
    "                input_ids, attention_mask, labels = [x.to(self.device) for x in batch]\n",
    "                outputs = self.model(input_ids=input_ids, attention_mask=attention_mask, labels=labels)\n",
    "                loss = outputs.loss\n",
    "                loss.backward()\n",
    "\n",
    "                optimizer.step()\n",
    "                lr_scheduler.step()\n",
    "                optimizer.zero_grad()\n",
    "                progress_bar.update(1)\n",
    "\n",
    "        return self\n",
    "\n",
    "    def predict(self, X):\n",
    "        # Tokenize the data\n",
    "        encodings = self.tokenizer(list(X), truncation=True, padding=True, max_length=self.max_length, return_tensors=\"pt\")\n",
    "        dataset = torch.utils.data.TensorDataset(encodings[\"input_ids\"], encodings[\"attention_mask\"])\n",
    "        dataloader = torch.utils.data.DataLoader(dataset, batch_size=self.batch_size)\n",
    "\n",
    "        self.model.to(self.device)\n",
    "        self.model.eval()\n",
    "\n",
    "        predictions = []\n",
    "        with torch.no_grad():\n",
    "            for batch in dataloader:\n",
    "                input_ids, attention_mask = [x.to(self.device) for x in batch]\n",
    "                outputs = self.model(input_ids=input_ids, attention_mask=attention_mask)\n",
    "                logits = outputs.logits\n",
    "                predictions.extend(torch.argmax(logits, dim=1).cpu().numpy())\n",
    "\n",
    "        return self.enc.inverse_transform(predictions)\n"
   ]
  },
  {
   "cell_type": "markdown",
   "id": "a8c1325b-53c2-4ad2-8e1d-5210ef1eb9db",
   "metadata": {
    "id": "a8c1325b-53c2-4ad2-8e1d-5210ef1eb9db"
   },
   "source": [
    "# Train Test Split"
   ]
  },
  {
   "cell_type": "code",
   "execution_count": 5,
   "id": "f9389275-4a5a-4a96-b146-9da0ec267d36",
   "metadata": {
    "id": "f9389275-4a5a-4a96-b146-9da0ec267d36"
   },
   "outputs": [],
   "source": [
    "X_train, X_test, y_train, y_test = {}, {}, {}, {}\n",
    "for name in sheet_names:\n",
    "    X_train[name], X_test[name], y_train[name], y_test[name] = train_test_split(\n",
    "        df[name][\"tweet\"],\n",
    "        df[name][\"class\"],\n",
    "        test_size=0.2,\n",
    "        random_state=46548694)"
   ]
  },
  {
   "cell_type": "markdown",
   "id": "2da0cb5c-189a-4c81-b404-1419dbf7545e",
   "metadata": {
    "id": "2da0cb5c-189a-4c81-b404-1419dbf7545e"
   },
   "source": [
    "# Model Pipeline and Eval"
   ]
  },
  {
   "cell_type": "markdown",
   "id": "786b83f2-9011-42fe-abed-39c4e24b4a77",
   "metadata": {
    "id": "786b83f2-9011-42fe-abed-39c4e24b4a77",
    "jp-MarkdownHeadingCollapsed": true
   },
   "source": [
    "## Logistic Regression"
   ]
  },
  {
   "cell_type": "code",
   "execution_count": 6,
   "id": "3e76190e-b46e-4333-95ec-15d8770a0533",
   "metadata": {
    "colab": {
     "base_uri": "https://localhost:8080/"
    },
    "id": "3e76190e-b46e-4333-95ec-15d8770a0533",
    "outputId": "47be3c16-e411-44a2-8a4e-ef469eb29e90"
   },
   "outputs": [
    {
     "name": "stdout",
     "output_type": "stream",
     "text": [
      "Obama Classification Report\n",
      "              precision    recall  f1-score   support\n",
      "\n",
      "          -1       0.57      0.66      0.61       390\n",
      "           0       0.55      0.52      0.53       397\n",
      "           1       0.65      0.56      0.60       335\n",
      "\n",
      "    accuracy                           0.58      1122\n",
      "   macro avg       0.59      0.58      0.58      1122\n",
      "weighted avg       0.58      0.58      0.58      1122\n",
      "\n",
      "Romney Classification Report\n",
      "              precision    recall  f1-score   support\n",
      "\n",
      "          -1       0.62      0.82      0.70       589\n",
      "           0       0.47      0.30      0.37       344\n",
      "           1       0.56      0.36      0.44       195\n",
      "\n",
      "    accuracy                           0.58      1128\n",
      "   macro avg       0.55      0.49      0.50      1128\n",
      "weighted avg       0.56      0.58      0.56      1128\n",
      "\n"
     ]
    }
   ],
   "source": [
    "logRes = Pipeline([\n",
    "    ('preprocessor', TextPreprocessor(removeHashtags=True, stemWords=True, lemmatizeWords=True)),\n",
    "    ('vectorizer', TfidfVectorizer(token_pattern=r'\\S+', ngram_range=(1,2), max_features= 2500, smooth_idf=True)),\n",
    "    ('classifier', LogisticRegression(random_state=5235253))\n",
    "])\n",
    "\n",
    "obama_pipeline = clone(logRes)\n",
    "romney_pipeline = clone(logRes)\n",
    "\n",
    "obama_pipeline.fit(X_train['Obama'], y_train['Obama'])\n",
    "romney_pipeline.fit(X_train['Romney'], y_train['Romney'])\n",
    "y_pred = {}\n",
    "y_pred['Obama'] = obama_pipeline.predict(X_test['Obama'])\n",
    "y_pred['Romney'] = romney_pipeline.predict(X_test['Romney'])\n",
    "print(\"Obama Classification Report\")\n",
    "print(classification_report(y_test[\"Obama\"], y_pred[\"Obama\"]))\n",
    "print(\"Romney Classification Report\")\n",
    "print(classification_report(y_test[\"Romney\"], y_pred[\"Romney\"]))"
   ]
  },
  {
   "cell_type": "markdown",
   "id": "f20b6782-beab-4f25-8ace-230ccd770483",
   "metadata": {
    "id": "f20b6782-beab-4f25-8ace-230ccd770483",
    "jp-MarkdownHeadingCollapsed": true
   },
   "source": [
    "## SVM"
   ]
  },
  {
   "cell_type": "code",
   "execution_count": 7,
   "id": "87335ef9-0f02-4d36-99d1-a2b77335ae3b",
   "metadata": {
    "colab": {
     "base_uri": "https://localhost:8080/"
    },
    "id": "87335ef9-0f02-4d36-99d1-a2b77335ae3b",
    "outputId": "c742cb32-afb3-4b31-9b5c-61f21962d010"
   },
   "outputs": [
    {
     "name": "stdout",
     "output_type": "stream",
     "text": [
      "Obama Classification Report\n",
      "              precision    recall  f1-score   support\n",
      "\n",
      "          -1       0.56      0.69      0.62       390\n",
      "           0       0.56      0.55      0.55       397\n",
      "           1       0.70      0.53      0.61       335\n",
      "\n",
      "    accuracy                           0.59      1122\n",
      "   macro avg       0.61      0.59      0.59      1122\n",
      "weighted avg       0.60      0.59      0.59      1122\n",
      "\n",
      "Romney Classification Report\n",
      "              precision    recall  f1-score   support\n",
      "\n",
      "          -1       0.60      0.90      0.72       589\n",
      "           0       0.50      0.22      0.31       344\n",
      "           1       0.62      0.29      0.39       195\n",
      "\n",
      "    accuracy                           0.59      1128\n",
      "   macro avg       0.57      0.47      0.47      1128\n",
      "weighted avg       0.57      0.59      0.54      1128\n",
      "\n"
     ]
    }
   ],
   "source": [
    "svc = Pipeline([\n",
    "    ('preprocessor', TextPreprocessor(removeHashtags=True, stemWords=True, lemmatizeWords=True)),\n",
    "    ('vectorizer', TfidfVectorizer(token_pattern=r'\\S+', ngram_range=(1,3), max_features= 2500, smooth_idf=True)),\n",
    "    ('classifier', SVC(random_state=5235253))\n",
    "])\n",
    "\n",
    "obama_pipeline = clone(svc)\n",
    "romney_pipeline = clone(svc)\n",
    "\n",
    "obama_pipeline.fit(X_train['Obama'], y_train['Obama'])\n",
    "romney_pipeline.fit(X_train['Romney'], y_train['Romney'])\n",
    "y_pred = {}\n",
    "y_pred['Obama'] = obama_pipeline.predict(X_test['Obama'])\n",
    "y_pred['Romney'] = romney_pipeline.predict(X_test['Romney'])\n",
    "print(\"Obama Classification Report\")\n",
    "print(classification_report(y_test[\"Obama\"], y_pred[\"Obama\"]))\n",
    "print(\"Romney Classification Report\")\n",
    "print(classification_report(y_test[\"Romney\"], y_pred[\"Romney\"]))"
   ]
  },
  {
   "cell_type": "markdown",
   "id": "4a8bb436-82da-4edd-974b-b467e1bdb0e2",
   "metadata": {
    "id": "4a8bb436-82da-4edd-974b-b467e1bdb0e2",
    "jp-MarkdownHeadingCollapsed": true
   },
   "source": [
    "## Naive Bayes"
   ]
  },
  {
   "cell_type": "code",
   "execution_count": 8,
   "id": "6bf416c5-e483-45d6-b4b5-759d44f6723d",
   "metadata": {
    "colab": {
     "base_uri": "https://localhost:8080/"
    },
    "id": "6bf416c5-e483-45d6-b4b5-759d44f6723d",
    "outputId": "d64ef1cf-1067-49dc-f7d4-963cd7aa8bb0"
   },
   "outputs": [
    {
     "name": "stdout",
     "output_type": "stream",
     "text": [
      "Obama Classification Report\n",
      "              precision    recall  f1-score   support\n",
      "\n",
      "          -1       0.55      0.74      0.63       390\n",
      "           0       0.57      0.53      0.55       397\n",
      "           1       0.75      0.50      0.60       335\n",
      "\n",
      "    accuracy                           0.59      1122\n",
      "   macro avg       0.62      0.59      0.59      1122\n",
      "weighted avg       0.62      0.59      0.59      1122\n",
      "\n",
      "Romney Classification Report\n",
      "              precision    recall  f1-score   support\n",
      "\n",
      "          -1       0.57      0.96      0.72       589\n",
      "           0       0.66      0.16      0.25       344\n",
      "           1       0.62      0.15      0.24       195\n",
      "\n",
      "    accuracy                           0.58      1128\n",
      "   macro avg       0.61      0.42      0.40      1128\n",
      "weighted avg       0.60      0.58      0.49      1128\n",
      "\n"
     ]
    }
   ],
   "source": [
    "multiNBC = Pipeline([\n",
    "    ('preprocessor', TextPreprocessor(removeHashtags=True, removeMentions=True, stemWords=True, lemmatizeWords=True)),\n",
    "    ('vectorizer', TfidfVectorizer(token_pattern=r'\\S+', ngram_range=(1,5), max_features= 2500, smooth_idf=True)),\n",
    "    ('classifier', MultinomialNB(alpha=2))\n",
    "])\n",
    "\n",
    "obama_pipeline = clone(multiNBC)\n",
    "romney_pipeline = clone(multiNBC)\n",
    "\n",
    "obama_pipeline.fit(X_train['Obama'], y_train['Obama'])\n",
    "romney_pipeline.fit(X_train['Romney'], y_train['Romney'])\n",
    "y_pred = {}\n",
    "y_pred['Obama'] = obama_pipeline.predict(X_test['Obama'])\n",
    "y_pred['Romney'] = romney_pipeline.predict(X_test['Romney'])\n",
    "print(\"Obama Classification Report\")\n",
    "print(classification_report(y_test[\"Obama\"], y_pred[\"Obama\"]))\n",
    "print(\"Romney Classification Report\")\n",
    "print(classification_report(y_test[\"Romney\"], y_pred[\"Romney\"]))"
   ]
  },
  {
   "cell_type": "code",
   "execution_count": 9,
   "id": "c360c2b8-aa5c-4ff2-acb7-67db1775eef1",
   "metadata": {
    "colab": {
     "base_uri": "https://localhost:8080/"
    },
    "id": "c360c2b8-aa5c-4ff2-acb7-67db1775eef1",
    "outputId": "87b8d595-70b0-4da9-c07d-bb1c693944c0"
   },
   "outputs": [
    {
     "name": "stdout",
     "output_type": "stream",
     "text": [
      "Obama Classification Report\n",
      "              precision    recall  f1-score   support\n",
      "\n",
      "          -1       0.61      0.60      0.60       390\n",
      "           0       0.54      0.61      0.57       397\n",
      "           1       0.66      0.56      0.61       335\n",
      "\n",
      "    accuracy                           0.59      1122\n",
      "   macro avg       0.60      0.59      0.60      1122\n",
      "weighted avg       0.60      0.59      0.59      1122\n",
      "\n",
      "Romney Classification Report\n",
      "              precision    recall  f1-score   support\n",
      "\n",
      "          -1       0.66      0.62      0.64       589\n",
      "           0       0.41      0.44      0.42       344\n",
      "           1       0.45      0.48      0.47       195\n",
      "\n",
      "    accuracy                           0.54      1128\n",
      "   macro avg       0.51      0.51      0.51      1128\n",
      "weighted avg       0.55      0.54      0.55      1128\n",
      "\n"
     ]
    }
   ],
   "source": [
    "bernoulliNBC = Pipeline([\n",
    "    ('preprocessor', TextPreprocessor(removeHashtags=True, stemWords=True, lemmatizeWords=True)),\n",
    "    ('vectorizer', TfidfVectorizer(token_pattern=r'\\S+', ngram_range=(1,4), max_features= 2500, smooth_idf=True)),\n",
    "    ('classifier', BernoulliNB(alpha=1))\n",
    "])\n",
    "\n",
    "obama_pipeline = clone(bernoulliNBC)\n",
    "romney_pipeline = clone(bernoulliNBC)\n",
    "\n",
    "obama_pipeline.fit(X_train['Obama'], y_train['Obama'])\n",
    "romney_pipeline.fit(X_train['Romney'], y_train['Romney'])\n",
    "y_pred = {}\n",
    "y_pred['Obama'] = obama_pipeline.predict(X_test['Obama'])\n",
    "y_pred['Romney'] = romney_pipeline.predict(X_test['Romney'])\n",
    "print(\"Obama Classification Report\")\n",
    "print(classification_report(y_test[\"Obama\"], y_pred[\"Obama\"]))\n",
    "print(\"Romney Classification Report\")\n",
    "print(classification_report(y_test[\"Romney\"], y_pred[\"Romney\"]))"
   ]
  },
  {
   "cell_type": "markdown",
   "id": "c3e73ab3-9614-4c4f-ac37-b801ef8c8817",
   "metadata": {
    "id": "c3e73ab3-9614-4c4f-ac37-b801ef8c8817",
    "jp-MarkdownHeadingCollapsed": true
   },
   "source": [
    "## Random Forests"
   ]
  },
  {
   "cell_type": "code",
   "execution_count": 10,
   "id": "f090aacb-51d7-4623-a025-0a052a48e084",
   "metadata": {
    "colab": {
     "base_uri": "https://localhost:8080/"
    },
    "id": "f090aacb-51d7-4623-a025-0a052a48e084",
    "outputId": "9f5f65cd-de0f-4d9a-b8b6-7fb69ac18544"
   },
   "outputs": [
    {
     "name": "stdout",
     "output_type": "stream",
     "text": [
      "Obama Classification Report\n",
      "              precision    recall  f1-score   support\n",
      "\n",
      "          -1       0.55      0.65      0.60       390\n",
      "           0       0.55      0.55      0.55       397\n",
      "           1       0.62      0.51      0.56       335\n",
      "\n",
      "    accuracy                           0.57      1122\n",
      "   macro avg       0.57      0.57      0.57      1122\n",
      "weighted avg       0.57      0.57      0.57      1122\n",
      "\n",
      "Romney Classification Report\n",
      "              precision    recall  f1-score   support\n",
      "\n",
      "          -1       0.58      0.82      0.68       589\n",
      "           0       0.43      0.25      0.31       344\n",
      "           1       0.62      0.29      0.39       195\n",
      "\n",
      "    accuracy                           0.55      1128\n",
      "   macro avg       0.54      0.45      0.46      1128\n",
      "weighted avg       0.54      0.55      0.52      1128\n",
      "\n"
     ]
    }
   ],
   "source": [
    "randomForests = Pipeline([\n",
    "    ('preprocessor', TextPreprocessor(removeHashtags=True, stemWords=True, lemmatizeWords=True)),\n",
    "    ('vectorizer', TfidfVectorizer(token_pattern=r'\\S+', ngram_range=(1,4), max_features= 2500, smooth_idf=True)),\n",
    "    ('classifier', RandomForestClassifier(random_state=5235253))\n",
    "])\n",
    "\n",
    "obama_pipeline = clone(randomForests)\n",
    "romney_pipeline = clone(randomForests)\n",
    "\n",
    "obama_pipeline.fit(X_train['Obama'], y_train['Obama'])\n",
    "romney_pipeline.fit(X_train['Romney'], y_train['Romney'])\n",
    "y_pred = {}\n",
    "y_pred['Obama'] = obama_pipeline.predict(X_test['Obama'])\n",
    "y_pred['Romney'] = romney_pipeline.predict(X_test['Romney'])\n",
    "print(\"Obama Classification Report\")\n",
    "print(classification_report(y_test[\"Obama\"], y_pred[\"Obama\"]))\n",
    "print(\"Romney Classification Report\")\n",
    "print(classification_report(y_test[\"Romney\"], y_pred[\"Romney\"]))"
   ]
  },
  {
   "cell_type": "code",
   "execution_count": 11,
   "id": "cf2d6390-209b-404a-b171-3bc5a3f068d9",
   "metadata": {
    "colab": {
     "base_uri": "https://localhost:8080/"
    },
    "id": "cf2d6390-209b-404a-b171-3bc5a3f068d9",
    "outputId": "64fa0fb1-f35b-4872-be49-16459258f03a"
   },
   "outputs": [
    {
     "name": "stdout",
     "output_type": "stream",
     "text": [
      "Obama Classification Report\n",
      "              precision    recall  f1-score   support\n",
      "\n",
      "          -1       0.59      0.67      0.63       390\n",
      "           0       0.56      0.57      0.57       397\n",
      "           1       0.65      0.53      0.59       335\n",
      "\n",
      "    accuracy                           0.60      1122\n",
      "   macro avg       0.60      0.59      0.59      1122\n",
      "weighted avg       0.60      0.60      0.60      1122\n",
      "\n",
      "Romney Classification Report\n",
      "              precision    recall  f1-score   support\n",
      "\n",
      "          -1       0.59      0.84      0.70       589\n",
      "           0       0.47      0.24      0.32       344\n",
      "           1       0.57      0.35      0.43       195\n",
      "\n",
      "    accuracy                           0.57      1128\n",
      "   macro avg       0.55      0.48      0.48      1128\n",
      "weighted avg       0.55      0.57      0.54      1128\n",
      "\n"
     ]
    }
   ],
   "source": [
    "randomForests = Pipeline([\n",
    "    ('preprocessor', TextPreprocessor(removeHashtags=True, stemWords=True)),\n",
    "    ('vectorizer', TfidfVectorizer(token_pattern=r'\\S+', ngram_range=(1,5), max_features= 2500, smooth_idf=True)),\n",
    "    ('classifier', ExtraTreesClassifier(random_state=5235253))\n",
    "])\n",
    "\n",
    "obama_pipeline = clone(randomForests)\n",
    "romney_pipeline = clone(randomForests)\n",
    "\n",
    "obama_pipeline.fit(X_train['Obama'], y_train['Obama'])\n",
    "romney_pipeline.fit(X_train['Romney'], y_train['Romney'])\n",
    "y_pred = {}\n",
    "y_pred['Obama'] = obama_pipeline.predict(X_test['Obama'])\n",
    "y_pred['Romney'] = romney_pipeline.predict(X_test['Romney'])\n",
    "print(\"Obama Classification Report\")\n",
    "print(classification_report(y_test[\"Obama\"], y_pred[\"Obama\"]))\n",
    "print(\"Romney Classification Report\")\n",
    "print(classification_report(y_test[\"Romney\"], y_pred[\"Romney\"]))"
   ]
  },
  {
   "cell_type": "markdown",
   "id": "0aa34586-cd80-4314-b1c9-1d4c28680dc0",
   "metadata": {
    "id": "0aa34586-cd80-4314-b1c9-1d4c28680dc0"
   },
   "source": [
    "## Roberta"
   ]
  },
  {
   "cell_type": "code",
   "execution_count": 6,
   "id": "22390cda-766b-472d-991d-c837408e2ada",
   "metadata": {
    "colab": {
     "base_uri": "https://localhost:8080/",
     "height": 301,
     "referenced_widgets": [
      "aeaef4d61abe4811aeb973df159f7f56",
      "de0103edc0a34165b199841d09808201",
      "4a9e3241738c4374814de997cca51497",
      "f02d31b441f1401db6e7a96618f8d80d",
      "c7527354c48d49ebb31fa85bc066bab5",
      "15b941329ff141cabdf90048803253c8",
      "94e298e6a28e4141ad1999a2f7fccf58",
      "53916d2f2fa54fa398ce0cbf4146a180",
      "5494a7f2f24d4204b2d2825e1afea92f",
      "92971a3afbfe44afb0f2a2565eb62d02",
      "ae373b3667bf459c843e23c2d2a4f681",
      "66cb2e9a835b41febabf0217f17d04fb",
      "8297cbdd661b4fa79a60a80d8842c73a",
      "2abf22755d484a2f9269ee6ec31469d1",
      "aa937898cd96467cb9676a078243631d",
      "0fb9ba9f2a3447f8b57010a436f99ab8",
      "c23dfaa1bda0452f8d6cf80308c3e6ff",
      "0eaeea24df434946b8e6e6c226d3ec37",
      "6302c344307d446782ae40b88067077d",
      "d3b4859d639f4bd393d7ca2f361fbf87",
      "bc7650d59e1f4693b476e1e148073d4b",
      "eed77a1ae1ff4c46b01c70deb0f2e544",
      "c937a817955348bab71cbdc05709ca1e",
      "8fefd38b181f43aa9ed5693263d30db5",
      "bec1c549fcb64a32aa2d0f05b40a166f",
      "37de1e173e4c49fd8170f91aef374071",
      "f88c3712f9b64a54870d6cb6d1cc1e14",
      "562c51ec9f594fa7bbb193b9780fb772",
      "0aa1af66ca744c82906693a819c0e080",
      "24bb705a428b4570a2894357b2ea5869",
      "7fa0f13954b14d91b0d30dadb79f7956",
      "e83372d4200844929e8779ea176b1e04",
      "e3c23213eebd4d4abac45461e03cc7a9",
      "0b463b5c6650422984e37d93c764c88f",
      "a03a36ed8ca24e73b7fc14ff8148ccff",
      "2d68584e4cbd4caaa6f29763691d7b74",
      "18d3d47af0a7452ca6dce681ccd40782",
      "b2b3e9f0bd0141eb8683ec8ae0a2e135",
      "455e0ffbf2e04d3dbc9679e90305339f",
      "280e01d0339e45b2bef3553deddcf022",
      "213f92b9c84245de9275d5e7d8aeb5c6",
      "a96a24c434a3481390286ebbf10e4340",
      "25b81c6d7b934cdfa278c890b257b71a",
      "72f9ae37ad554463988542dc4a3abd8a",
      "a93a5338248f4cb3baff96b724b638d9",
      "b850d395abd84ff38f4f934f19d92ee7",
      "58f20febbcc5484baaf289f6b299202d",
      "e337ea789c7e4e71845a49585493e476",
      "4f821e5e0c274094984c386b5b2e3ff1",
      "60c26111c4c14e42ad470721983dfa16",
      "20ff38f020da43a391ebffbe58e9591f",
      "a56600a6e89746778b0919256c2cb9aa",
      "1383849d4f004d05a6f296e41f58f651",
      "96c17e023f6549aeb0be55b1c86dc2c5",
      "629ac2d3525144cda10d8f28b3e381c3"
     ]
    },
    "id": "22390cda-766b-472d-991d-c837408e2ada",
    "outputId": "2043caf4-e9c8-4468-adc4-9385f92eb56f"
   },
   "outputs": [
    {
     "name": "stderr",
     "output_type": "stream",
     "text": [
      "/usr/local/lib/python3.10/dist-packages/huggingface_hub/utils/_auth.py:94: UserWarning: \n",
      "The secret `HF_TOKEN` does not exist in your Colab secrets.\n",
      "To authenticate with the Hugging Face Hub, create a token in your settings tab (https://huggingface.co/settings/tokens), set it as secret in your Google Colab and restart your session.\n",
      "You will be able to reuse this secret in all of your notebooks.\n",
      "Please note that authentication is recommended but still optional to access public models or datasets.\n",
      "  warnings.warn(\n"
     ]
    },
    {
     "data": {
      "application/vnd.jupyter.widget-view+json": {
       "model_id": "aeaef4d61abe4811aeb973df159f7f56",
       "version_major": 2,
       "version_minor": 0
      },
      "text/plain": [
       "config.json:   0%|          | 0.00/747 [00:00<?, ?B/s]"
      ]
     },
     "metadata": {},
     "output_type": "display_data"
    },
    {
     "data": {
      "application/vnd.jupyter.widget-view+json": {
       "model_id": "66cb2e9a835b41febabf0217f17d04fb",
       "version_major": 2,
       "version_minor": 0
      },
      "text/plain": [
       "vocab.json:   0%|          | 0.00/899k [00:00<?, ?B/s]"
      ]
     },
     "metadata": {},
     "output_type": "display_data"
    },
    {
     "data": {
      "application/vnd.jupyter.widget-view+json": {
       "model_id": "c937a817955348bab71cbdc05709ca1e",
       "version_major": 2,
       "version_minor": 0
      },
      "text/plain": [
       "merges.txt:   0%|          | 0.00/456k [00:00<?, ?B/s]"
      ]
     },
     "metadata": {},
     "output_type": "display_data"
    },
    {
     "data": {
      "application/vnd.jupyter.widget-view+json": {
       "model_id": "0b463b5c6650422984e37d93c764c88f",
       "version_major": 2,
       "version_minor": 0
      },
      "text/plain": [
       "special_tokens_map.json:   0%|          | 0.00/150 [00:00<?, ?B/s]"
      ]
     },
     "metadata": {},
     "output_type": "display_data"
    },
    {
     "data": {
      "application/vnd.jupyter.widget-view+json": {
       "model_id": "a93a5338248f4cb3baff96b724b638d9",
       "version_major": 2,
       "version_minor": 0
      },
      "text/plain": [
       "pytorch_model.bin:   0%|          | 0.00/499M [00:00<?, ?B/s]"
      ]
     },
     "metadata": {},
     "output_type": "display_data"
    }
   ],
   "source": [
    "# Define pipeline\n",
    "pipeline = Pipeline([\n",
    "    ('preprocessor', HuggingFacePreprocessor()),\n",
    "    ('classifier', HuggingFaceClassifier(model_name=\"cardiffnlp/twitter-roberta-base-sentiment\", num_labels=3))\n",
    "])\n",
    "\n",
    "obama_pipeline = clone(pipeline)\n",
    "romney_pipeline = clone(pipeline)\n",
    "y_pred = {}"
   ]
  },
  {
   "cell_type": "code",
   "execution_count": 7,
   "id": "1c1cb17e-972d-44cb-8959-e8092626e98d",
   "metadata": {
    "colab": {
     "base_uri": "https://localhost:8080/"
    },
    "id": "1c1cb17e-972d-44cb-8959-e8092626e98d",
    "outputId": "f4a9e740-bc26-4a8a-ddca-6398ed86e40b"
   },
   "outputs": [
    {
     "name": "stderr",
     "output_type": "stream",
     "text": [
      "/usr/local/lib/python3.10/dist-packages/transformers/optimization.py:591: FutureWarning: This implementation of AdamW is deprecated and will be removed in a future version. Use the PyTorch implementation torch.optim.AdamW instead, or set `no_deprecation_warning=True` to disable this warning\n",
      "  warnings.warn(\n",
      "Training: 100%|██████████| 843/843 [03:48<00:00,  3.69it/s]\n"
     ]
    },
    {
     "name": "stdout",
     "output_type": "stream",
     "text": [
      "              precision    recall  f1-score   support\n",
      "\n",
      "          -1       0.69      0.81      0.75       390\n",
      "           0       0.74      0.57      0.64       397\n",
      "           1       0.75      0.80      0.77       335\n",
      "\n",
      "    accuracy                           0.72      1122\n",
      "   macro avg       0.73      0.73      0.72      1122\n",
      "weighted avg       0.73      0.72      0.72      1122\n",
      "\n"
     ]
    }
   ],
   "source": [
    "obama_pipeline.fit(X_train['Obama'], y_train['Obama'])\n",
    "\n",
    "y_pred['Obama'] = obama_pipeline.predict(X_test['Obama'])\n",
    "print(classification_report(y_test['Obama'], y_pred['Obama']))"
   ]
  },
  {
   "cell_type": "code",
   "execution_count": 8,
   "id": "dc85e1ff-3178-42bd-b17f-f7b77b950e7c",
   "metadata": {
    "colab": {
     "base_uri": "https://localhost:8080/"
    },
    "id": "dc85e1ff-3178-42bd-b17f-f7b77b950e7c",
    "outputId": "5997cedd-f0cf-49c7-e5e0-bfcfee333180"
   },
   "outputs": [
    {
     "name": "stderr",
     "output_type": "stream",
     "text": [
      "/usr/local/lib/python3.10/dist-packages/transformers/optimization.py:591: FutureWarning: This implementation of AdamW is deprecated and will be removed in a future version. Use the PyTorch implementation torch.optim.AdamW instead, or set `no_deprecation_warning=True` to disable this warning\n",
      "  warnings.warn(\n",
      "Training: 100%|██████████| 846/846 [04:45<00:00,  2.96it/s]\n"
     ]
    },
    {
     "name": "stdout",
     "output_type": "stream",
     "text": [
      "              precision    recall  f1-score   support\n",
      "\n",
      "          -1       0.75      0.85      0.80       589\n",
      "           0       0.64      0.53      0.58       344\n",
      "           1       0.70      0.65      0.67       195\n",
      "\n",
      "    accuracy                           0.72      1128\n",
      "   macro avg       0.70      0.68      0.68      1128\n",
      "weighted avg       0.71      0.72      0.71      1128\n",
      "\n"
     ]
    }
   ],
   "source": [
    "romney_pipeline.fit(X_train['Romney'], y_train['Romney'])\n",
    "\n",
    "y_pred['Romney'] = romney_pipeline.predict(X_test['Romney'])\n",
    "print(classification_report(y_test['Romney'], y_pred['Romney']))"
   ]
  },
  {
   "cell_type": "code",
   "execution_count": 9,
   "id": "6db4c290-6355-4970-b2b5-88c844c27ce7",
   "metadata": {
    "colab": {
     "base_uri": "https://localhost:8080/"
    },
    "id": "6db4c290-6355-4970-b2b5-88c844c27ce7",
    "outputId": "93c3931d-5aad-408f-b35d-cb8f8f12662b"
   },
   "outputs": [
    {
     "data": {
      "text/plain": [
       "['roberta_romney_pipeline.pkl']"
      ]
     },
     "execution_count": 9,
     "metadata": {},
     "output_type": "execute_result"
    }
   ],
   "source": [
    "joblib.dump(obama_pipeline, \"roberta_obama_pipeline.pkl\")\n",
    "joblib.dump(romney_pipeline, \"roberta_romney_pipeline.pkl\")"
   ]
  },
  {
   "cell_type": "markdown",
   "id": "9cf85f87-a950-4fff-aebe-b8daa371a665",
   "metadata": {
    "id": "9cf85f87-a950-4fff-aebe-b8daa371a665"
   },
   "source": [
    "# Running against test data"
   ]
  },
  {
   "cell_type": "code",
   "execution_count": null,
   "id": "f3590a36-bdfb-4532-85d9-22ab4ae0a4ab",
   "metadata": {
    "id": "f3590a36-bdfb-4532-85d9-22ab4ae0a4ab"
   },
   "outputs": [],
   "source": [
    "test_df = {}\n",
    "for sheet in sheet_names:\n",
    "    # rename columns, drop useless columns, format data, remove duplicates\n",
    "    sh = pd.read_excel('./sample-testdata.xlsx', sheet_name=sheet, header=None, names=['#', 'tweet'])\n",
    "    test_df[sheet] = sh"
   ]
  },
  {
   "cell_type": "code",
   "execution_count": null,
   "id": "3a7a04b3-5a90-4f9d-9e20-d0ffa103d809",
   "metadata": {
    "id": "3a7a04b3-5a90-4f9d-9e20-d0ffa103d809",
    "outputId": "aac11705-02ca-48f1-d708-abc592a96b29"
   },
   "outputs": [
    {
     "data": {
      "text/html": [
       "<div>\n",
       "<style scoped>\n",
       "    .dataframe tbody tr th:only-of-type {\n",
       "        vertical-align: middle;\n",
       "    }\n",
       "\n",
       "    .dataframe tbody tr th {\n",
       "        vertical-align: top;\n",
       "    }\n",
       "\n",
       "    .dataframe thead th {\n",
       "        text-align: right;\n",
       "    }\n",
       "</style>\n",
       "<table border=\"1\" class=\"dataframe\">\n",
       "  <thead>\n",
       "    <tr style=\"text-align: right;\">\n",
       "      <th></th>\n",
       "      <th>#</th>\n",
       "      <th>tweet</th>\n",
       "    </tr>\n",
       "  </thead>\n",
       "  <tbody>\n",
       "    <tr>\n",
       "      <th>0</th>\n",
       "      <td>1</td>\n",
       "      <td>Insidious!&lt;e&gt;Mitt Romney&lt;/e&gt;'s Bain Helped Phi...</td>\n",
       "    </tr>\n",
       "    <tr>\n",
       "      <th>1</th>\n",
       "      <td>2</td>\n",
       "      <td>Senior &lt;e&gt;Romney&lt;/e&gt; Advisor Claims &lt;e&gt;Obama&lt;/...</td>\n",
       "    </tr>\n",
       "    <tr>\n",
       "      <th>2</th>\n",
       "      <td>3</td>\n",
       "      <td>.@WardBrenda @shortwave8669 @allanbourdius you...</td>\n",
       "    </tr>\n",
       "    <tr>\n",
       "      <th>3</th>\n",
       "      <td>4</td>\n",
       "      <td>&lt;e&gt;Mitt Romney&lt;/e&gt; still doesn't &lt;a&gt;believe&lt;/a...</td>\n",
       "    </tr>\n",
       "  </tbody>\n",
       "</table>\n",
       "</div>"
      ],
      "text/plain": [
       "   #                                              tweet\n",
       "0  1  Insidious!<e>Mitt Romney</e>'s Bain Helped Phi...\n",
       "1  2  Senior <e>Romney</e> Advisor Claims <e>Obama</...\n",
       "2  3  .@WardBrenda @shortwave8669 @allanbourdius you...\n",
       "3  4  <e>Mitt Romney</e> still doesn't <a>believe</a..."
      ]
     },
     "execution_count": 10,
     "metadata": {},
     "output_type": "execute_result"
    }
   ],
   "source": [
    "test_df['Romney']"
   ]
  },
  {
   "cell_type": "code",
   "execution_count": null,
   "id": "6eba8f08-0195-4519-8b3f-19e37746e11f",
   "metadata": {
    "id": "6eba8f08-0195-4519-8b3f-19e37746e11f"
   },
   "outputs": [],
   "source": [
    "roberta_obama_pipeline = joblib.load('roberta_obama_pipeline.pkl')\n",
    "roberta_romney_pipeline = joblib.load('roberta_romney_pipeline.pkl')"
   ]
  },
  {
   "cell_type": "code",
   "execution_count": null,
   "id": "b308426c-f7d3-4f7b-81ff-8ad8958c4f1d",
   "metadata": {
    "id": "b308426c-f7d3-4f7b-81ff-8ad8958c4f1d"
   },
   "outputs": [],
   "source": [
    "test_y = {}"
   ]
  },
  {
   "cell_type": "code",
   "execution_count": null,
   "id": "9d4968af-8fc7-483e-8917-b58bf243fa1f",
   "metadata": {
    "id": "9d4968af-8fc7-483e-8917-b58bf243fa1f"
   },
   "outputs": [],
   "source": [
    "test_y['Obama'] = roberta_obama_pipeline.predict(test_df['Romney']['tweet'])\n",
    "test_y['Romney'] = roberta_romney_pipeline.predict(test_df['Romney']['tweet'])"
   ]
  },
  {
   "cell_type": "code",
   "execution_count": null,
   "id": "7ff5e41f-979f-4055-bb39-d832535750a5",
   "metadata": {
    "id": "7ff5e41f-979f-4055-bb39-d832535750a5"
   },
   "outputs": [],
   "source": [
    "test_df['Romney']['Class'] = test_y['Romney']"
   ]
  },
  {
   "cell_type": "code",
   "execution_count": null,
   "id": "6f4dd10d-211e-40d3-acf8-e24e0f84be85",
   "metadata": {
    "id": "6f4dd10d-211e-40d3-acf8-e24e0f84be85",
    "outputId": "3f4179fa-9ea0-4d01-b547-6be61540f5e8"
   },
   "outputs": [
    {
     "data": {
      "text/html": [
       "<div>\n",
       "<style scoped>\n",
       "    .dataframe tbody tr th:only-of-type {\n",
       "        vertical-align: middle;\n",
       "    }\n",
       "\n",
       "    .dataframe tbody tr th {\n",
       "        vertical-align: top;\n",
       "    }\n",
       "\n",
       "    .dataframe thead th {\n",
       "        text-align: right;\n",
       "    }\n",
       "</style>\n",
       "<table border=\"1\" class=\"dataframe\">\n",
       "  <thead>\n",
       "    <tr style=\"text-align: right;\">\n",
       "      <th></th>\n",
       "      <th>#</th>\n",
       "      <th>tweet</th>\n",
       "      <th>Class</th>\n",
       "    </tr>\n",
       "  </thead>\n",
       "  <tbody>\n",
       "    <tr>\n",
       "      <th>0</th>\n",
       "      <td>1</td>\n",
       "      <td>Insidious!&lt;e&gt;Mitt Romney&lt;/e&gt;'s Bain Helped Phi...</td>\n",
       "      <td>-1</td>\n",
       "    </tr>\n",
       "    <tr>\n",
       "      <th>1</th>\n",
       "      <td>2</td>\n",
       "      <td>Senior &lt;e&gt;Romney&lt;/e&gt; Advisor Claims &lt;e&gt;Obama&lt;/...</td>\n",
       "      <td>1</td>\n",
       "    </tr>\n",
       "    <tr>\n",
       "      <th>2</th>\n",
       "      <td>3</td>\n",
       "      <td>.@WardBrenda @shortwave8669 @allanbourdius you...</td>\n",
       "      <td>-1</td>\n",
       "    </tr>\n",
       "    <tr>\n",
       "      <th>3</th>\n",
       "      <td>4</td>\n",
       "      <td>&lt;e&gt;Mitt Romney&lt;/e&gt; still doesn't &lt;a&gt;believe&lt;/a...</td>\n",
       "      <td>-1</td>\n",
       "    </tr>\n",
       "  </tbody>\n",
       "</table>\n",
       "</div>"
      ],
      "text/plain": [
       "   #                                              tweet  Class\n",
       "0  1  Insidious!<e>Mitt Romney</e>'s Bain Helped Phi...     -1\n",
       "1  2  Senior <e>Romney</e> Advisor Claims <e>Obama</...      1\n",
       "2  3  .@WardBrenda @shortwave8669 @allanbourdius you...     -1\n",
       "3  4  <e>Mitt Romney</e> still doesn't <a>believe</a...     -1"
      ]
     },
     "execution_count": 18,
     "metadata": {},
     "output_type": "execute_result"
    }
   ],
   "source": [
    "test_df['Romney']"
   ]
  },
  {
   "cell_type": "code",
   "execution_count": null,
   "id": "27094b34-4aab-41c2-9167-4b36af98156e",
   "metadata": {
    "id": "27094b34-4aab-41c2-9167-4b36af98156e"
   },
   "outputs": [],
   "source": [
    "with pd.ExcelWriter('output.xlsx') as writer:\n",
    "    test_df['Romney'].to_excel(writer, sheet_name='Romney', index=False, header=False)\n",
    "    # test_df['Obama'].to_excel(writer, sheet_name='Obama', index=False, header=False)"
   ]
  },
  {
   "cell_type": "code",
   "execution_count": 12,
   "id": "d5WHt_k0xfWn",
   "metadata": {
    "id": "d5WHt_k0xfWn"
   },
   "outputs": [],
   "source": [
    "y_pred['Romney'] = obama_pipeline.predict(X_test['Romney'])\n",
    "y_pred['Obama'] = romney_pipeline.predict(X_test['Obama'])"
   ]
  },
  {
   "cell_type": "code",
   "execution_count": 13,
   "id": "qVXLddJEx4TV",
   "metadata": {
    "colab": {
     "base_uri": "https://localhost:8080/"
    },
    "id": "qVXLddJEx4TV",
    "outputId": "78fb4970-1c4d-412e-8ffa-fff7dbf192aa"
   },
   "outputs": [
    {
     "name": "stdout",
     "output_type": "stream",
     "text": [
      "              precision    recall  f1-score   support\n",
      "\n",
      "          -1       0.75      0.49      0.59       589\n",
      "           0       0.42      0.76      0.54       344\n",
      "           1       0.56      0.36      0.44       195\n",
      "\n",
      "    accuracy                           0.55      1128\n",
      "   macro avg       0.58      0.53      0.52      1128\n",
      "weighted avg       0.62      0.55      0.55      1128\n",
      "\n",
      "              precision    recall  f1-score   support\n",
      "\n",
      "          -1       0.60      0.57      0.58       390\n",
      "           0       0.53      0.77      0.63       397\n",
      "           1       0.75      0.41      0.53       335\n",
      "\n",
      "    accuracy                           0.59      1122\n",
      "   macro avg       0.63      0.58      0.58      1122\n",
      "weighted avg       0.62      0.59      0.58      1122\n",
      "\n"
     ]
    }
   ],
   "source": [
    "print(classification_report(y_test['Romney'], y_pred['Romney']))\n",
    "print(classification_report(y_test['Obama'], y_pred['Obama']))"
   ]
  }
 ],
 "metadata": {
  "accelerator": "GPU",
  "colab": {
   "gpuType": "T4",
   "provenance": []
  },
  "kernelspec": {
   "display_name": "Python 3 (ipykernel)",
   "language": "python",
   "name": "python3"
  },
  "language_info": {
   "codemirror_mode": {
    "name": "ipython",
    "version": 3
   },
   "file_extension": ".py",
   "mimetype": "text/x-python",
   "name": "python",
   "nbconvert_exporter": "python",
   "pygments_lexer": "ipython3",
   "version": "3.11.2"
  },
  "widgets": {
   "application/vnd.jupyter.widget-state+json": {
    "0aa1af66ca744c82906693a819c0e080": {
     "model_module": "@jupyter-widgets/controls",
     "model_module_version": "1.5.0",
     "model_name": "DescriptionStyleModel",
     "state": {
      "_model_module": "@jupyter-widgets/controls",
      "_model_module_version": "1.5.0",
      "_model_name": "DescriptionStyleModel",
      "_view_count": null,
      "_view_module": "@jupyter-widgets/base",
      "_view_module_version": "1.2.0",
      "_view_name": "StyleView",
      "description_width": ""
     }
    },
    "0b463b5c6650422984e37d93c764c88f": {
     "model_module": "@jupyter-widgets/controls",
     "model_module_version": "1.5.0",
     "model_name": "HBoxModel",
     "state": {
      "_dom_classes": [],
      "_model_module": "@jupyter-widgets/controls",
      "_model_module_version": "1.5.0",
      "_model_name": "HBoxModel",
      "_view_count": null,
      "_view_module": "@jupyter-widgets/controls",
      "_view_module_version": "1.5.0",
      "_view_name": "HBoxView",
      "box_style": "",
      "children": [
       "IPY_MODEL_a03a36ed8ca24e73b7fc14ff8148ccff",
       "IPY_MODEL_2d68584e4cbd4caaa6f29763691d7b74",
       "IPY_MODEL_18d3d47af0a7452ca6dce681ccd40782"
      ],
      "layout": "IPY_MODEL_b2b3e9f0bd0141eb8683ec8ae0a2e135"
     }
    },
    "0eaeea24df434946b8e6e6c226d3ec37": {
     "model_module": "@jupyter-widgets/controls",
     "model_module_version": "1.5.0",
     "model_name": "DescriptionStyleModel",
     "state": {
      "_model_module": "@jupyter-widgets/controls",
      "_model_module_version": "1.5.0",
      "_model_name": "DescriptionStyleModel",
      "_view_count": null,
      "_view_module": "@jupyter-widgets/base",
      "_view_module_version": "1.2.0",
      "_view_name": "StyleView",
      "description_width": ""
     }
    },
    "0fb9ba9f2a3447f8b57010a436f99ab8": {
     "model_module": "@jupyter-widgets/base",
     "model_module_version": "1.2.0",
     "model_name": "LayoutModel",
     "state": {
      "_model_module": "@jupyter-widgets/base",
      "_model_module_version": "1.2.0",
      "_model_name": "LayoutModel",
      "_view_count": null,
      "_view_module": "@jupyter-widgets/base",
      "_view_module_version": "1.2.0",
      "_view_name": "LayoutView",
      "align_content": null,
      "align_items": null,
      "align_self": null,
      "border": null,
      "bottom": null,
      "display": null,
      "flex": null,
      "flex_flow": null,
      "grid_area": null,
      "grid_auto_columns": null,
      "grid_auto_flow": null,
      "grid_auto_rows": null,
      "grid_column": null,
      "grid_gap": null,
      "grid_row": null,
      "grid_template_areas": null,
      "grid_template_columns": null,
      "grid_template_rows": null,
      "height": null,
      "justify_content": null,
      "justify_items": null,
      "left": null,
      "margin": null,
      "max_height": null,
      "max_width": null,
      "min_height": null,
      "min_width": null,
      "object_fit": null,
      "object_position": null,
      "order": null,
      "overflow": null,
      "overflow_x": null,
      "overflow_y": null,
      "padding": null,
      "right": null,
      "top": null,
      "visibility": null,
      "width": null
     }
    },
    "1383849d4f004d05a6f296e41f58f651": {
     "model_module": "@jupyter-widgets/controls",
     "model_module_version": "1.5.0",
     "model_name": "ProgressStyleModel",
     "state": {
      "_model_module": "@jupyter-widgets/controls",
      "_model_module_version": "1.5.0",
      "_model_name": "ProgressStyleModel",
      "_view_count": null,
      "_view_module": "@jupyter-widgets/base",
      "_view_module_version": "1.2.0",
      "_view_name": "StyleView",
      "bar_color": null,
      "description_width": ""
     }
    },
    "15b941329ff141cabdf90048803253c8": {
     "model_module": "@jupyter-widgets/base",
     "model_module_version": "1.2.0",
     "model_name": "LayoutModel",
     "state": {
      "_model_module": "@jupyter-widgets/base",
      "_model_module_version": "1.2.0",
      "_model_name": "LayoutModel",
      "_view_count": null,
      "_view_module": "@jupyter-widgets/base",
      "_view_module_version": "1.2.0",
      "_view_name": "LayoutView",
      "align_content": null,
      "align_items": null,
      "align_self": null,
      "border": null,
      "bottom": null,
      "display": null,
      "flex": null,
      "flex_flow": null,
      "grid_area": null,
      "grid_auto_columns": null,
      "grid_auto_flow": null,
      "grid_auto_rows": null,
      "grid_column": null,
      "grid_gap": null,
      "grid_row": null,
      "grid_template_areas": null,
      "grid_template_columns": null,
      "grid_template_rows": null,
      "height": null,
      "justify_content": null,
      "justify_items": null,
      "left": null,
      "margin": null,
      "max_height": null,
      "max_width": null,
      "min_height": null,
      "min_width": null,
      "object_fit": null,
      "object_position": null,
      "order": null,
      "overflow": null,
      "overflow_x": null,
      "overflow_y": null,
      "padding": null,
      "right": null,
      "top": null,
      "visibility": null,
      "width": null
     }
    },
    "18d3d47af0a7452ca6dce681ccd40782": {
     "model_module": "@jupyter-widgets/controls",
     "model_module_version": "1.5.0",
     "model_name": "HTMLModel",
     "state": {
      "_dom_classes": [],
      "_model_module": "@jupyter-widgets/controls",
      "_model_module_version": "1.5.0",
      "_model_name": "HTMLModel",
      "_view_count": null,
      "_view_module": "@jupyter-widgets/controls",
      "_view_module_version": "1.5.0",
      "_view_name": "HTMLView",
      "description": "",
      "description_tooltip": null,
      "layout": "IPY_MODEL_25b81c6d7b934cdfa278c890b257b71a",
      "placeholder": "​",
      "style": "IPY_MODEL_72f9ae37ad554463988542dc4a3abd8a",
      "value": " 150/150 [00:00&lt;00:00, 9.41kB/s]"
     }
    },
    "20ff38f020da43a391ebffbe58e9591f": {
     "model_module": "@jupyter-widgets/controls",
     "model_module_version": "1.5.0",
     "model_name": "DescriptionStyleModel",
     "state": {
      "_model_module": "@jupyter-widgets/controls",
      "_model_module_version": "1.5.0",
      "_model_name": "DescriptionStyleModel",
      "_view_count": null,
      "_view_module": "@jupyter-widgets/base",
      "_view_module_version": "1.2.0",
      "_view_name": "StyleView",
      "description_width": ""
     }
    },
    "213f92b9c84245de9275d5e7d8aeb5c6": {
     "model_module": "@jupyter-widgets/base",
     "model_module_version": "1.2.0",
     "model_name": "LayoutModel",
     "state": {
      "_model_module": "@jupyter-widgets/base",
      "_model_module_version": "1.2.0",
      "_model_name": "LayoutModel",
      "_view_count": null,
      "_view_module": "@jupyter-widgets/base",
      "_view_module_version": "1.2.0",
      "_view_name": "LayoutView",
      "align_content": null,
      "align_items": null,
      "align_self": null,
      "border": null,
      "bottom": null,
      "display": null,
      "flex": null,
      "flex_flow": null,
      "grid_area": null,
      "grid_auto_columns": null,
      "grid_auto_flow": null,
      "grid_auto_rows": null,
      "grid_column": null,
      "grid_gap": null,
      "grid_row": null,
      "grid_template_areas": null,
      "grid_template_columns": null,
      "grid_template_rows": null,
      "height": null,
      "justify_content": null,
      "justify_items": null,
      "left": null,
      "margin": null,
      "max_height": null,
      "max_width": null,
      "min_height": null,
      "min_width": null,
      "object_fit": null,
      "object_position": null,
      "order": null,
      "overflow": null,
      "overflow_x": null,
      "overflow_y": null,
      "padding": null,
      "right": null,
      "top": null,
      "visibility": null,
      "width": null
     }
    },
    "24bb705a428b4570a2894357b2ea5869": {
     "model_module": "@jupyter-widgets/base",
     "model_module_version": "1.2.0",
     "model_name": "LayoutModel",
     "state": {
      "_model_module": "@jupyter-widgets/base",
      "_model_module_version": "1.2.0",
      "_model_name": "LayoutModel",
      "_view_count": null,
      "_view_module": "@jupyter-widgets/base",
      "_view_module_version": "1.2.0",
      "_view_name": "LayoutView",
      "align_content": null,
      "align_items": null,
      "align_self": null,
      "border": null,
      "bottom": null,
      "display": null,
      "flex": null,
      "flex_flow": null,
      "grid_area": null,
      "grid_auto_columns": null,
      "grid_auto_flow": null,
      "grid_auto_rows": null,
      "grid_column": null,
      "grid_gap": null,
      "grid_row": null,
      "grid_template_areas": null,
      "grid_template_columns": null,
      "grid_template_rows": null,
      "height": null,
      "justify_content": null,
      "justify_items": null,
      "left": null,
      "margin": null,
      "max_height": null,
      "max_width": null,
      "min_height": null,
      "min_width": null,
      "object_fit": null,
      "object_position": null,
      "order": null,
      "overflow": null,
      "overflow_x": null,
      "overflow_y": null,
      "padding": null,
      "right": null,
      "top": null,
      "visibility": null,
      "width": null
     }
    },
    "25b81c6d7b934cdfa278c890b257b71a": {
     "model_module": "@jupyter-widgets/base",
     "model_module_version": "1.2.0",
     "model_name": "LayoutModel",
     "state": {
      "_model_module": "@jupyter-widgets/base",
      "_model_module_version": "1.2.0",
      "_model_name": "LayoutModel",
      "_view_count": null,
      "_view_module": "@jupyter-widgets/base",
      "_view_module_version": "1.2.0",
      "_view_name": "LayoutView",
      "align_content": null,
      "align_items": null,
      "align_self": null,
      "border": null,
      "bottom": null,
      "display": null,
      "flex": null,
      "flex_flow": null,
      "grid_area": null,
      "grid_auto_columns": null,
      "grid_auto_flow": null,
      "grid_auto_rows": null,
      "grid_column": null,
      "grid_gap": null,
      "grid_row": null,
      "grid_template_areas": null,
      "grid_template_columns": null,
      "grid_template_rows": null,
      "height": null,
      "justify_content": null,
      "justify_items": null,
      "left": null,
      "margin": null,
      "max_height": null,
      "max_width": null,
      "min_height": null,
      "min_width": null,
      "object_fit": null,
      "object_position": null,
      "order": null,
      "overflow": null,
      "overflow_x": null,
      "overflow_y": null,
      "padding": null,
      "right": null,
      "top": null,
      "visibility": null,
      "width": null
     }
    },
    "280e01d0339e45b2bef3553deddcf022": {
     "model_module": "@jupyter-widgets/controls",
     "model_module_version": "1.5.0",
     "model_name": "DescriptionStyleModel",
     "state": {
      "_model_module": "@jupyter-widgets/controls",
      "_model_module_version": "1.5.0",
      "_model_name": "DescriptionStyleModel",
      "_view_count": null,
      "_view_module": "@jupyter-widgets/base",
      "_view_module_version": "1.2.0",
      "_view_name": "StyleView",
      "description_width": ""
     }
    },
    "2abf22755d484a2f9269ee6ec31469d1": {
     "model_module": "@jupyter-widgets/controls",
     "model_module_version": "1.5.0",
     "model_name": "FloatProgressModel",
     "state": {
      "_dom_classes": [],
      "_model_module": "@jupyter-widgets/controls",
      "_model_module_version": "1.5.0",
      "_model_name": "FloatProgressModel",
      "_view_count": null,
      "_view_module": "@jupyter-widgets/controls",
      "_view_module_version": "1.5.0",
      "_view_name": "ProgressView",
      "bar_style": "success",
      "description": "",
      "description_tooltip": null,
      "layout": "IPY_MODEL_6302c344307d446782ae40b88067077d",
      "max": 898822,
      "min": 0,
      "orientation": "horizontal",
      "style": "IPY_MODEL_d3b4859d639f4bd393d7ca2f361fbf87",
      "value": 898822
     }
    },
    "2d68584e4cbd4caaa6f29763691d7b74": {
     "model_module": "@jupyter-widgets/controls",
     "model_module_version": "1.5.0",
     "model_name": "FloatProgressModel",
     "state": {
      "_dom_classes": [],
      "_model_module": "@jupyter-widgets/controls",
      "_model_module_version": "1.5.0",
      "_model_name": "FloatProgressModel",
      "_view_count": null,
      "_view_module": "@jupyter-widgets/controls",
      "_view_module_version": "1.5.0",
      "_view_name": "ProgressView",
      "bar_style": "success",
      "description": "",
      "description_tooltip": null,
      "layout": "IPY_MODEL_213f92b9c84245de9275d5e7d8aeb5c6",
      "max": 150,
      "min": 0,
      "orientation": "horizontal",
      "style": "IPY_MODEL_a96a24c434a3481390286ebbf10e4340",
      "value": 150
     }
    },
    "37de1e173e4c49fd8170f91aef374071": {
     "model_module": "@jupyter-widgets/controls",
     "model_module_version": "1.5.0",
     "model_name": "HTMLModel",
     "state": {
      "_dom_classes": [],
      "_model_module": "@jupyter-widgets/controls",
      "_model_module_version": "1.5.0",
      "_model_name": "HTMLModel",
      "_view_count": null,
      "_view_module": "@jupyter-widgets/controls",
      "_view_module_version": "1.5.0",
      "_view_name": "HTMLView",
      "description": "",
      "description_tooltip": null,
      "layout": "IPY_MODEL_e83372d4200844929e8779ea176b1e04",
      "placeholder": "​",
      "style": "IPY_MODEL_e3c23213eebd4d4abac45461e03cc7a9",
      "value": " 456k/456k [00:00&lt;00:00, 10.2MB/s]"
     }
    },
    "455e0ffbf2e04d3dbc9679e90305339f": {
     "model_module": "@jupyter-widgets/base",
     "model_module_version": "1.2.0",
     "model_name": "LayoutModel",
     "state": {
      "_model_module": "@jupyter-widgets/base",
      "_model_module_version": "1.2.0",
      "_model_name": "LayoutModel",
      "_view_count": null,
      "_view_module": "@jupyter-widgets/base",
      "_view_module_version": "1.2.0",
      "_view_name": "LayoutView",
      "align_content": null,
      "align_items": null,
      "align_self": null,
      "border": null,
      "bottom": null,
      "display": null,
      "flex": null,
      "flex_flow": null,
      "grid_area": null,
      "grid_auto_columns": null,
      "grid_auto_flow": null,
      "grid_auto_rows": null,
      "grid_column": null,
      "grid_gap": null,
      "grid_row": null,
      "grid_template_areas": null,
      "grid_template_columns": null,
      "grid_template_rows": null,
      "height": null,
      "justify_content": null,
      "justify_items": null,
      "left": null,
      "margin": null,
      "max_height": null,
      "max_width": null,
      "min_height": null,
      "min_width": null,
      "object_fit": null,
      "object_position": null,
      "order": null,
      "overflow": null,
      "overflow_x": null,
      "overflow_y": null,
      "padding": null,
      "right": null,
      "top": null,
      "visibility": null,
      "width": null
     }
    },
    "4a9e3241738c4374814de997cca51497": {
     "model_module": "@jupyter-widgets/controls",
     "model_module_version": "1.5.0",
     "model_name": "FloatProgressModel",
     "state": {
      "_dom_classes": [],
      "_model_module": "@jupyter-widgets/controls",
      "_model_module_version": "1.5.0",
      "_model_name": "FloatProgressModel",
      "_view_count": null,
      "_view_module": "@jupyter-widgets/controls",
      "_view_module_version": "1.5.0",
      "_view_name": "ProgressView",
      "bar_style": "success",
      "description": "",
      "description_tooltip": null,
      "layout": "IPY_MODEL_53916d2f2fa54fa398ce0cbf4146a180",
      "max": 747,
      "min": 0,
      "orientation": "horizontal",
      "style": "IPY_MODEL_5494a7f2f24d4204b2d2825e1afea92f",
      "value": 747
     }
    },
    "4f821e5e0c274094984c386b5b2e3ff1": {
     "model_module": "@jupyter-widgets/base",
     "model_module_version": "1.2.0",
     "model_name": "LayoutModel",
     "state": {
      "_model_module": "@jupyter-widgets/base",
      "_model_module_version": "1.2.0",
      "_model_name": "LayoutModel",
      "_view_count": null,
      "_view_module": "@jupyter-widgets/base",
      "_view_module_version": "1.2.0",
      "_view_name": "LayoutView",
      "align_content": null,
      "align_items": null,
      "align_self": null,
      "border": null,
      "bottom": null,
      "display": null,
      "flex": null,
      "flex_flow": null,
      "grid_area": null,
      "grid_auto_columns": null,
      "grid_auto_flow": null,
      "grid_auto_rows": null,
      "grid_column": null,
      "grid_gap": null,
      "grid_row": null,
      "grid_template_areas": null,
      "grid_template_columns": null,
      "grid_template_rows": null,
      "height": null,
      "justify_content": null,
      "justify_items": null,
      "left": null,
      "margin": null,
      "max_height": null,
      "max_width": null,
      "min_height": null,
      "min_width": null,
      "object_fit": null,
      "object_position": null,
      "order": null,
      "overflow": null,
      "overflow_x": null,
      "overflow_y": null,
      "padding": null,
      "right": null,
      "top": null,
      "visibility": null,
      "width": null
     }
    },
    "53916d2f2fa54fa398ce0cbf4146a180": {
     "model_module": "@jupyter-widgets/base",
     "model_module_version": "1.2.0",
     "model_name": "LayoutModel",
     "state": {
      "_model_module": "@jupyter-widgets/base",
      "_model_module_version": "1.2.0",
      "_model_name": "LayoutModel",
      "_view_count": null,
      "_view_module": "@jupyter-widgets/base",
      "_view_module_version": "1.2.0",
      "_view_name": "LayoutView",
      "align_content": null,
      "align_items": null,
      "align_self": null,
      "border": null,
      "bottom": null,
      "display": null,
      "flex": null,
      "flex_flow": null,
      "grid_area": null,
      "grid_auto_columns": null,
      "grid_auto_flow": null,
      "grid_auto_rows": null,
      "grid_column": null,
      "grid_gap": null,
      "grid_row": null,
      "grid_template_areas": null,
      "grid_template_columns": null,
      "grid_template_rows": null,
      "height": null,
      "justify_content": null,
      "justify_items": null,
      "left": null,
      "margin": null,
      "max_height": null,
      "max_width": null,
      "min_height": null,
      "min_width": null,
      "object_fit": null,
      "object_position": null,
      "order": null,
      "overflow": null,
      "overflow_x": null,
      "overflow_y": null,
      "padding": null,
      "right": null,
      "top": null,
      "visibility": null,
      "width": null
     }
    },
    "5494a7f2f24d4204b2d2825e1afea92f": {
     "model_module": "@jupyter-widgets/controls",
     "model_module_version": "1.5.0",
     "model_name": "ProgressStyleModel",
     "state": {
      "_model_module": "@jupyter-widgets/controls",
      "_model_module_version": "1.5.0",
      "_model_name": "ProgressStyleModel",
      "_view_count": null,
      "_view_module": "@jupyter-widgets/base",
      "_view_module_version": "1.2.0",
      "_view_name": "StyleView",
      "bar_color": null,
      "description_width": ""
     }
    },
    "562c51ec9f594fa7bbb193b9780fb772": {
     "model_module": "@jupyter-widgets/base",
     "model_module_version": "1.2.0",
     "model_name": "LayoutModel",
     "state": {
      "_model_module": "@jupyter-widgets/base",
      "_model_module_version": "1.2.0",
      "_model_name": "LayoutModel",
      "_view_count": null,
      "_view_module": "@jupyter-widgets/base",
      "_view_module_version": "1.2.0",
      "_view_name": "LayoutView",
      "align_content": null,
      "align_items": null,
      "align_self": null,
      "border": null,
      "bottom": null,
      "display": null,
      "flex": null,
      "flex_flow": null,
      "grid_area": null,
      "grid_auto_columns": null,
      "grid_auto_flow": null,
      "grid_auto_rows": null,
      "grid_column": null,
      "grid_gap": null,
      "grid_row": null,
      "grid_template_areas": null,
      "grid_template_columns": null,
      "grid_template_rows": null,
      "height": null,
      "justify_content": null,
      "justify_items": null,
      "left": null,
      "margin": null,
      "max_height": null,
      "max_width": null,
      "min_height": null,
      "min_width": null,
      "object_fit": null,
      "object_position": null,
      "order": null,
      "overflow": null,
      "overflow_x": null,
      "overflow_y": null,
      "padding": null,
      "right": null,
      "top": null,
      "visibility": null,
      "width": null
     }
    },
    "58f20febbcc5484baaf289f6b299202d": {
     "model_module": "@jupyter-widgets/controls",
     "model_module_version": "1.5.0",
     "model_name": "FloatProgressModel",
     "state": {
      "_dom_classes": [],
      "_model_module": "@jupyter-widgets/controls",
      "_model_module_version": "1.5.0",
      "_model_name": "FloatProgressModel",
      "_view_count": null,
      "_view_module": "@jupyter-widgets/controls",
      "_view_module_version": "1.5.0",
      "_view_name": "ProgressView",
      "bar_style": "success",
      "description": "",
      "description_tooltip": null,
      "layout": "IPY_MODEL_a56600a6e89746778b0919256c2cb9aa",
      "max": 498679497,
      "min": 0,
      "orientation": "horizontal",
      "style": "IPY_MODEL_1383849d4f004d05a6f296e41f58f651",
      "value": 498679497
     }
    },
    "60c26111c4c14e42ad470721983dfa16": {
     "model_module": "@jupyter-widgets/base",
     "model_module_version": "1.2.0",
     "model_name": "LayoutModel",
     "state": {
      "_model_module": "@jupyter-widgets/base",
      "_model_module_version": "1.2.0",
      "_model_name": "LayoutModel",
      "_view_count": null,
      "_view_module": "@jupyter-widgets/base",
      "_view_module_version": "1.2.0",
      "_view_name": "LayoutView",
      "align_content": null,
      "align_items": null,
      "align_self": null,
      "border": null,
      "bottom": null,
      "display": null,
      "flex": null,
      "flex_flow": null,
      "grid_area": null,
      "grid_auto_columns": null,
      "grid_auto_flow": null,
      "grid_auto_rows": null,
      "grid_column": null,
      "grid_gap": null,
      "grid_row": null,
      "grid_template_areas": null,
      "grid_template_columns": null,
      "grid_template_rows": null,
      "height": null,
      "justify_content": null,
      "justify_items": null,
      "left": null,
      "margin": null,
      "max_height": null,
      "max_width": null,
      "min_height": null,
      "min_width": null,
      "object_fit": null,
      "object_position": null,
      "order": null,
      "overflow": null,
      "overflow_x": null,
      "overflow_y": null,
      "padding": null,
      "right": null,
      "top": null,
      "visibility": null,
      "width": null
     }
    },
    "629ac2d3525144cda10d8f28b3e381c3": {
     "model_module": "@jupyter-widgets/controls",
     "model_module_version": "1.5.0",
     "model_name": "DescriptionStyleModel",
     "state": {
      "_model_module": "@jupyter-widgets/controls",
      "_model_module_version": "1.5.0",
      "_model_name": "DescriptionStyleModel",
      "_view_count": null,
      "_view_module": "@jupyter-widgets/base",
      "_view_module_version": "1.2.0",
      "_view_name": "StyleView",
      "description_width": ""
     }
    },
    "6302c344307d446782ae40b88067077d": {
     "model_module": "@jupyter-widgets/base",
     "model_module_version": "1.2.0",
     "model_name": "LayoutModel",
     "state": {
      "_model_module": "@jupyter-widgets/base",
      "_model_module_version": "1.2.0",
      "_model_name": "LayoutModel",
      "_view_count": null,
      "_view_module": "@jupyter-widgets/base",
      "_view_module_version": "1.2.0",
      "_view_name": "LayoutView",
      "align_content": null,
      "align_items": null,
      "align_self": null,
      "border": null,
      "bottom": null,
      "display": null,
      "flex": null,
      "flex_flow": null,
      "grid_area": null,
      "grid_auto_columns": null,
      "grid_auto_flow": null,
      "grid_auto_rows": null,
      "grid_column": null,
      "grid_gap": null,
      "grid_row": null,
      "grid_template_areas": null,
      "grid_template_columns": null,
      "grid_template_rows": null,
      "height": null,
      "justify_content": null,
      "justify_items": null,
      "left": null,
      "margin": null,
      "max_height": null,
      "max_width": null,
      "min_height": null,
      "min_width": null,
      "object_fit": null,
      "object_position": null,
      "order": null,
      "overflow": null,
      "overflow_x": null,
      "overflow_y": null,
      "padding": null,
      "right": null,
      "top": null,
      "visibility": null,
      "width": null
     }
    },
    "66cb2e9a835b41febabf0217f17d04fb": {
     "model_module": "@jupyter-widgets/controls",
     "model_module_version": "1.5.0",
     "model_name": "HBoxModel",
     "state": {
      "_dom_classes": [],
      "_model_module": "@jupyter-widgets/controls",
      "_model_module_version": "1.5.0",
      "_model_name": "HBoxModel",
      "_view_count": null,
      "_view_module": "@jupyter-widgets/controls",
      "_view_module_version": "1.5.0",
      "_view_name": "HBoxView",
      "box_style": "",
      "children": [
       "IPY_MODEL_8297cbdd661b4fa79a60a80d8842c73a",
       "IPY_MODEL_2abf22755d484a2f9269ee6ec31469d1",
       "IPY_MODEL_aa937898cd96467cb9676a078243631d"
      ],
      "layout": "IPY_MODEL_0fb9ba9f2a3447f8b57010a436f99ab8"
     }
    },
    "72f9ae37ad554463988542dc4a3abd8a": {
     "model_module": "@jupyter-widgets/controls",
     "model_module_version": "1.5.0",
     "model_name": "DescriptionStyleModel",
     "state": {
      "_model_module": "@jupyter-widgets/controls",
      "_model_module_version": "1.5.0",
      "_model_name": "DescriptionStyleModel",
      "_view_count": null,
      "_view_module": "@jupyter-widgets/base",
      "_view_module_version": "1.2.0",
      "_view_name": "StyleView",
      "description_width": ""
     }
    },
    "7fa0f13954b14d91b0d30dadb79f7956": {
     "model_module": "@jupyter-widgets/controls",
     "model_module_version": "1.5.0",
     "model_name": "ProgressStyleModel",
     "state": {
      "_model_module": "@jupyter-widgets/controls",
      "_model_module_version": "1.5.0",
      "_model_name": "ProgressStyleModel",
      "_view_count": null,
      "_view_module": "@jupyter-widgets/base",
      "_view_module_version": "1.2.0",
      "_view_name": "StyleView",
      "bar_color": null,
      "description_width": ""
     }
    },
    "8297cbdd661b4fa79a60a80d8842c73a": {
     "model_module": "@jupyter-widgets/controls",
     "model_module_version": "1.5.0",
     "model_name": "HTMLModel",
     "state": {
      "_dom_classes": [],
      "_model_module": "@jupyter-widgets/controls",
      "_model_module_version": "1.5.0",
      "_model_name": "HTMLModel",
      "_view_count": null,
      "_view_module": "@jupyter-widgets/controls",
      "_view_module_version": "1.5.0",
      "_view_name": "HTMLView",
      "description": "",
      "description_tooltip": null,
      "layout": "IPY_MODEL_c23dfaa1bda0452f8d6cf80308c3e6ff",
      "placeholder": "​",
      "style": "IPY_MODEL_0eaeea24df434946b8e6e6c226d3ec37",
      "value": "vocab.json: 100%"
     }
    },
    "8fefd38b181f43aa9ed5693263d30db5": {
     "model_module": "@jupyter-widgets/controls",
     "model_module_version": "1.5.0",
     "model_name": "HTMLModel",
     "state": {
      "_dom_classes": [],
      "_model_module": "@jupyter-widgets/controls",
      "_model_module_version": "1.5.0",
      "_model_name": "HTMLModel",
      "_view_count": null,
      "_view_module": "@jupyter-widgets/controls",
      "_view_module_version": "1.5.0",
      "_view_name": "HTMLView",
      "description": "",
      "description_tooltip": null,
      "layout": "IPY_MODEL_562c51ec9f594fa7bbb193b9780fb772",
      "placeholder": "​",
      "style": "IPY_MODEL_0aa1af66ca744c82906693a819c0e080",
      "value": "merges.txt: 100%"
     }
    },
    "92971a3afbfe44afb0f2a2565eb62d02": {
     "model_module": "@jupyter-widgets/base",
     "model_module_version": "1.2.0",
     "model_name": "LayoutModel",
     "state": {
      "_model_module": "@jupyter-widgets/base",
      "_model_module_version": "1.2.0",
      "_model_name": "LayoutModel",
      "_view_count": null,
      "_view_module": "@jupyter-widgets/base",
      "_view_module_version": "1.2.0",
      "_view_name": "LayoutView",
      "align_content": null,
      "align_items": null,
      "align_self": null,
      "border": null,
      "bottom": null,
      "display": null,
      "flex": null,
      "flex_flow": null,
      "grid_area": null,
      "grid_auto_columns": null,
      "grid_auto_flow": null,
      "grid_auto_rows": null,
      "grid_column": null,
      "grid_gap": null,
      "grid_row": null,
      "grid_template_areas": null,
      "grid_template_columns": null,
      "grid_template_rows": null,
      "height": null,
      "justify_content": null,
      "justify_items": null,
      "left": null,
      "margin": null,
      "max_height": null,
      "max_width": null,
      "min_height": null,
      "min_width": null,
      "object_fit": null,
      "object_position": null,
      "order": null,
      "overflow": null,
      "overflow_x": null,
      "overflow_y": null,
      "padding": null,
      "right": null,
      "top": null,
      "visibility": null,
      "width": null
     }
    },
    "94e298e6a28e4141ad1999a2f7fccf58": {
     "model_module": "@jupyter-widgets/controls",
     "model_module_version": "1.5.0",
     "model_name": "DescriptionStyleModel",
     "state": {
      "_model_module": "@jupyter-widgets/controls",
      "_model_module_version": "1.5.0",
      "_model_name": "DescriptionStyleModel",
      "_view_count": null,
      "_view_module": "@jupyter-widgets/base",
      "_view_module_version": "1.2.0",
      "_view_name": "StyleView",
      "description_width": ""
     }
    },
    "96c17e023f6549aeb0be55b1c86dc2c5": {
     "model_module": "@jupyter-widgets/base",
     "model_module_version": "1.2.0",
     "model_name": "LayoutModel",
     "state": {
      "_model_module": "@jupyter-widgets/base",
      "_model_module_version": "1.2.0",
      "_model_name": "LayoutModel",
      "_view_count": null,
      "_view_module": "@jupyter-widgets/base",
      "_view_module_version": "1.2.0",
      "_view_name": "LayoutView",
      "align_content": null,
      "align_items": null,
      "align_self": null,
      "border": null,
      "bottom": null,
      "display": null,
      "flex": null,
      "flex_flow": null,
      "grid_area": null,
      "grid_auto_columns": null,
      "grid_auto_flow": null,
      "grid_auto_rows": null,
      "grid_column": null,
      "grid_gap": null,
      "grid_row": null,
      "grid_template_areas": null,
      "grid_template_columns": null,
      "grid_template_rows": null,
      "height": null,
      "justify_content": null,
      "justify_items": null,
      "left": null,
      "margin": null,
      "max_height": null,
      "max_width": null,
      "min_height": null,
      "min_width": null,
      "object_fit": null,
      "object_position": null,
      "order": null,
      "overflow": null,
      "overflow_x": null,
      "overflow_y": null,
      "padding": null,
      "right": null,
      "top": null,
      "visibility": null,
      "width": null
     }
    },
    "a03a36ed8ca24e73b7fc14ff8148ccff": {
     "model_module": "@jupyter-widgets/controls",
     "model_module_version": "1.5.0",
     "model_name": "HTMLModel",
     "state": {
      "_dom_classes": [],
      "_model_module": "@jupyter-widgets/controls",
      "_model_module_version": "1.5.0",
      "_model_name": "HTMLModel",
      "_view_count": null,
      "_view_module": "@jupyter-widgets/controls",
      "_view_module_version": "1.5.0",
      "_view_name": "HTMLView",
      "description": "",
      "description_tooltip": null,
      "layout": "IPY_MODEL_455e0ffbf2e04d3dbc9679e90305339f",
      "placeholder": "​",
      "style": "IPY_MODEL_280e01d0339e45b2bef3553deddcf022",
      "value": "special_tokens_map.json: 100%"
     }
    },
    "a56600a6e89746778b0919256c2cb9aa": {
     "model_module": "@jupyter-widgets/base",
     "model_module_version": "1.2.0",
     "model_name": "LayoutModel",
     "state": {
      "_model_module": "@jupyter-widgets/base",
      "_model_module_version": "1.2.0",
      "_model_name": "LayoutModel",
      "_view_count": null,
      "_view_module": "@jupyter-widgets/base",
      "_view_module_version": "1.2.0",
      "_view_name": "LayoutView",
      "align_content": null,
      "align_items": null,
      "align_self": null,
      "border": null,
      "bottom": null,
      "display": null,
      "flex": null,
      "flex_flow": null,
      "grid_area": null,
      "grid_auto_columns": null,
      "grid_auto_flow": null,
      "grid_auto_rows": null,
      "grid_column": null,
      "grid_gap": null,
      "grid_row": null,
      "grid_template_areas": null,
      "grid_template_columns": null,
      "grid_template_rows": null,
      "height": null,
      "justify_content": null,
      "justify_items": null,
      "left": null,
      "margin": null,
      "max_height": null,
      "max_width": null,
      "min_height": null,
      "min_width": null,
      "object_fit": null,
      "object_position": null,
      "order": null,
      "overflow": null,
      "overflow_x": null,
      "overflow_y": null,
      "padding": null,
      "right": null,
      "top": null,
      "visibility": null,
      "width": null
     }
    },
    "a93a5338248f4cb3baff96b724b638d9": {
     "model_module": "@jupyter-widgets/controls",
     "model_module_version": "1.5.0",
     "model_name": "HBoxModel",
     "state": {
      "_dom_classes": [],
      "_model_module": "@jupyter-widgets/controls",
      "_model_module_version": "1.5.0",
      "_model_name": "HBoxModel",
      "_view_count": null,
      "_view_module": "@jupyter-widgets/controls",
      "_view_module_version": "1.5.0",
      "_view_name": "HBoxView",
      "box_style": "",
      "children": [
       "IPY_MODEL_b850d395abd84ff38f4f934f19d92ee7",
       "IPY_MODEL_58f20febbcc5484baaf289f6b299202d",
       "IPY_MODEL_e337ea789c7e4e71845a49585493e476"
      ],
      "layout": "IPY_MODEL_4f821e5e0c274094984c386b5b2e3ff1"
     }
    },
    "a96a24c434a3481390286ebbf10e4340": {
     "model_module": "@jupyter-widgets/controls",
     "model_module_version": "1.5.0",
     "model_name": "ProgressStyleModel",
     "state": {
      "_model_module": "@jupyter-widgets/controls",
      "_model_module_version": "1.5.0",
      "_model_name": "ProgressStyleModel",
      "_view_count": null,
      "_view_module": "@jupyter-widgets/base",
      "_view_module_version": "1.2.0",
      "_view_name": "StyleView",
      "bar_color": null,
      "description_width": ""
     }
    },
    "aa937898cd96467cb9676a078243631d": {
     "model_module": "@jupyter-widgets/controls",
     "model_module_version": "1.5.0",
     "model_name": "HTMLModel",
     "state": {
      "_dom_classes": [],
      "_model_module": "@jupyter-widgets/controls",
      "_model_module_version": "1.5.0",
      "_model_name": "HTMLModel",
      "_view_count": null,
      "_view_module": "@jupyter-widgets/controls",
      "_view_module_version": "1.5.0",
      "_view_name": "HTMLView",
      "description": "",
      "description_tooltip": null,
      "layout": "IPY_MODEL_bc7650d59e1f4693b476e1e148073d4b",
      "placeholder": "​",
      "style": "IPY_MODEL_eed77a1ae1ff4c46b01c70deb0f2e544",
      "value": " 899k/899k [00:00&lt;00:00, 11.7MB/s]"
     }
    },
    "ae373b3667bf459c843e23c2d2a4f681": {
     "model_module": "@jupyter-widgets/controls",
     "model_module_version": "1.5.0",
     "model_name": "DescriptionStyleModel",
     "state": {
      "_model_module": "@jupyter-widgets/controls",
      "_model_module_version": "1.5.0",
      "_model_name": "DescriptionStyleModel",
      "_view_count": null,
      "_view_module": "@jupyter-widgets/base",
      "_view_module_version": "1.2.0",
      "_view_name": "StyleView",
      "description_width": ""
     }
    },
    "aeaef4d61abe4811aeb973df159f7f56": {
     "model_module": "@jupyter-widgets/controls",
     "model_module_version": "1.5.0",
     "model_name": "HBoxModel",
     "state": {
      "_dom_classes": [],
      "_model_module": "@jupyter-widgets/controls",
      "_model_module_version": "1.5.0",
      "_model_name": "HBoxModel",
      "_view_count": null,
      "_view_module": "@jupyter-widgets/controls",
      "_view_module_version": "1.5.0",
      "_view_name": "HBoxView",
      "box_style": "",
      "children": [
       "IPY_MODEL_de0103edc0a34165b199841d09808201",
       "IPY_MODEL_4a9e3241738c4374814de997cca51497",
       "IPY_MODEL_f02d31b441f1401db6e7a96618f8d80d"
      ],
      "layout": "IPY_MODEL_c7527354c48d49ebb31fa85bc066bab5"
     }
    },
    "b2b3e9f0bd0141eb8683ec8ae0a2e135": {
     "model_module": "@jupyter-widgets/base",
     "model_module_version": "1.2.0",
     "model_name": "LayoutModel",
     "state": {
      "_model_module": "@jupyter-widgets/base",
      "_model_module_version": "1.2.0",
      "_model_name": "LayoutModel",
      "_view_count": null,
      "_view_module": "@jupyter-widgets/base",
      "_view_module_version": "1.2.0",
      "_view_name": "LayoutView",
      "align_content": null,
      "align_items": null,
      "align_self": null,
      "border": null,
      "bottom": null,
      "display": null,
      "flex": null,
      "flex_flow": null,
      "grid_area": null,
      "grid_auto_columns": null,
      "grid_auto_flow": null,
      "grid_auto_rows": null,
      "grid_column": null,
      "grid_gap": null,
      "grid_row": null,
      "grid_template_areas": null,
      "grid_template_columns": null,
      "grid_template_rows": null,
      "height": null,
      "justify_content": null,
      "justify_items": null,
      "left": null,
      "margin": null,
      "max_height": null,
      "max_width": null,
      "min_height": null,
      "min_width": null,
      "object_fit": null,
      "object_position": null,
      "order": null,
      "overflow": null,
      "overflow_x": null,
      "overflow_y": null,
      "padding": null,
      "right": null,
      "top": null,
      "visibility": null,
      "width": null
     }
    },
    "b850d395abd84ff38f4f934f19d92ee7": {
     "model_module": "@jupyter-widgets/controls",
     "model_module_version": "1.5.0",
     "model_name": "HTMLModel",
     "state": {
      "_dom_classes": [],
      "_model_module": "@jupyter-widgets/controls",
      "_model_module_version": "1.5.0",
      "_model_name": "HTMLModel",
      "_view_count": null,
      "_view_module": "@jupyter-widgets/controls",
      "_view_module_version": "1.5.0",
      "_view_name": "HTMLView",
      "description": "",
      "description_tooltip": null,
      "layout": "IPY_MODEL_60c26111c4c14e42ad470721983dfa16",
      "placeholder": "​",
      "style": "IPY_MODEL_20ff38f020da43a391ebffbe58e9591f",
      "value": "pytorch_model.bin: 100%"
     }
    },
    "bc7650d59e1f4693b476e1e148073d4b": {
     "model_module": "@jupyter-widgets/base",
     "model_module_version": "1.2.0",
     "model_name": "LayoutModel",
     "state": {
      "_model_module": "@jupyter-widgets/base",
      "_model_module_version": "1.2.0",
      "_model_name": "LayoutModel",
      "_view_count": null,
      "_view_module": "@jupyter-widgets/base",
      "_view_module_version": "1.2.0",
      "_view_name": "LayoutView",
      "align_content": null,
      "align_items": null,
      "align_self": null,
      "border": null,
      "bottom": null,
      "display": null,
      "flex": null,
      "flex_flow": null,
      "grid_area": null,
      "grid_auto_columns": null,
      "grid_auto_flow": null,
      "grid_auto_rows": null,
      "grid_column": null,
      "grid_gap": null,
      "grid_row": null,
      "grid_template_areas": null,
      "grid_template_columns": null,
      "grid_template_rows": null,
      "height": null,
      "justify_content": null,
      "justify_items": null,
      "left": null,
      "margin": null,
      "max_height": null,
      "max_width": null,
      "min_height": null,
      "min_width": null,
      "object_fit": null,
      "object_position": null,
      "order": null,
      "overflow": null,
      "overflow_x": null,
      "overflow_y": null,
      "padding": null,
      "right": null,
      "top": null,
      "visibility": null,
      "width": null
     }
    },
    "bec1c549fcb64a32aa2d0f05b40a166f": {
     "model_module": "@jupyter-widgets/controls",
     "model_module_version": "1.5.0",
     "model_name": "FloatProgressModel",
     "state": {
      "_dom_classes": [],
      "_model_module": "@jupyter-widgets/controls",
      "_model_module_version": "1.5.0",
      "_model_name": "FloatProgressModel",
      "_view_count": null,
      "_view_module": "@jupyter-widgets/controls",
      "_view_module_version": "1.5.0",
      "_view_name": "ProgressView",
      "bar_style": "success",
      "description": "",
      "description_tooltip": null,
      "layout": "IPY_MODEL_24bb705a428b4570a2894357b2ea5869",
      "max": 456318,
      "min": 0,
      "orientation": "horizontal",
      "style": "IPY_MODEL_7fa0f13954b14d91b0d30dadb79f7956",
      "value": 456318
     }
    },
    "c23dfaa1bda0452f8d6cf80308c3e6ff": {
     "model_module": "@jupyter-widgets/base",
     "model_module_version": "1.2.0",
     "model_name": "LayoutModel",
     "state": {
      "_model_module": "@jupyter-widgets/base",
      "_model_module_version": "1.2.0",
      "_model_name": "LayoutModel",
      "_view_count": null,
      "_view_module": "@jupyter-widgets/base",
      "_view_module_version": "1.2.0",
      "_view_name": "LayoutView",
      "align_content": null,
      "align_items": null,
      "align_self": null,
      "border": null,
      "bottom": null,
      "display": null,
      "flex": null,
      "flex_flow": null,
      "grid_area": null,
      "grid_auto_columns": null,
      "grid_auto_flow": null,
      "grid_auto_rows": null,
      "grid_column": null,
      "grid_gap": null,
      "grid_row": null,
      "grid_template_areas": null,
      "grid_template_columns": null,
      "grid_template_rows": null,
      "height": null,
      "justify_content": null,
      "justify_items": null,
      "left": null,
      "margin": null,
      "max_height": null,
      "max_width": null,
      "min_height": null,
      "min_width": null,
      "object_fit": null,
      "object_position": null,
      "order": null,
      "overflow": null,
      "overflow_x": null,
      "overflow_y": null,
      "padding": null,
      "right": null,
      "top": null,
      "visibility": null,
      "width": null
     }
    },
    "c7527354c48d49ebb31fa85bc066bab5": {
     "model_module": "@jupyter-widgets/base",
     "model_module_version": "1.2.0",
     "model_name": "LayoutModel",
     "state": {
      "_model_module": "@jupyter-widgets/base",
      "_model_module_version": "1.2.0",
      "_model_name": "LayoutModel",
      "_view_count": null,
      "_view_module": "@jupyter-widgets/base",
      "_view_module_version": "1.2.0",
      "_view_name": "LayoutView",
      "align_content": null,
      "align_items": null,
      "align_self": null,
      "border": null,
      "bottom": null,
      "display": null,
      "flex": null,
      "flex_flow": null,
      "grid_area": null,
      "grid_auto_columns": null,
      "grid_auto_flow": null,
      "grid_auto_rows": null,
      "grid_column": null,
      "grid_gap": null,
      "grid_row": null,
      "grid_template_areas": null,
      "grid_template_columns": null,
      "grid_template_rows": null,
      "height": null,
      "justify_content": null,
      "justify_items": null,
      "left": null,
      "margin": null,
      "max_height": null,
      "max_width": null,
      "min_height": null,
      "min_width": null,
      "object_fit": null,
      "object_position": null,
      "order": null,
      "overflow": null,
      "overflow_x": null,
      "overflow_y": null,
      "padding": null,
      "right": null,
      "top": null,
      "visibility": null,
      "width": null
     }
    },
    "c937a817955348bab71cbdc05709ca1e": {
     "model_module": "@jupyter-widgets/controls",
     "model_module_version": "1.5.0",
     "model_name": "HBoxModel",
     "state": {
      "_dom_classes": [],
      "_model_module": "@jupyter-widgets/controls",
      "_model_module_version": "1.5.0",
      "_model_name": "HBoxModel",
      "_view_count": null,
      "_view_module": "@jupyter-widgets/controls",
      "_view_module_version": "1.5.0",
      "_view_name": "HBoxView",
      "box_style": "",
      "children": [
       "IPY_MODEL_8fefd38b181f43aa9ed5693263d30db5",
       "IPY_MODEL_bec1c549fcb64a32aa2d0f05b40a166f",
       "IPY_MODEL_37de1e173e4c49fd8170f91aef374071"
      ],
      "layout": "IPY_MODEL_f88c3712f9b64a54870d6cb6d1cc1e14"
     }
    },
    "d3b4859d639f4bd393d7ca2f361fbf87": {
     "model_module": "@jupyter-widgets/controls",
     "model_module_version": "1.5.0",
     "model_name": "ProgressStyleModel",
     "state": {
      "_model_module": "@jupyter-widgets/controls",
      "_model_module_version": "1.5.0",
      "_model_name": "ProgressStyleModel",
      "_view_count": null,
      "_view_module": "@jupyter-widgets/base",
      "_view_module_version": "1.2.0",
      "_view_name": "StyleView",
      "bar_color": null,
      "description_width": ""
     }
    },
    "de0103edc0a34165b199841d09808201": {
     "model_module": "@jupyter-widgets/controls",
     "model_module_version": "1.5.0",
     "model_name": "HTMLModel",
     "state": {
      "_dom_classes": [],
      "_model_module": "@jupyter-widgets/controls",
      "_model_module_version": "1.5.0",
      "_model_name": "HTMLModel",
      "_view_count": null,
      "_view_module": "@jupyter-widgets/controls",
      "_view_module_version": "1.5.0",
      "_view_name": "HTMLView",
      "description": "",
      "description_tooltip": null,
      "layout": "IPY_MODEL_15b941329ff141cabdf90048803253c8",
      "placeholder": "​",
      "style": "IPY_MODEL_94e298e6a28e4141ad1999a2f7fccf58",
      "value": "config.json: 100%"
     }
    },
    "e337ea789c7e4e71845a49585493e476": {
     "model_module": "@jupyter-widgets/controls",
     "model_module_version": "1.5.0",
     "model_name": "HTMLModel",
     "state": {
      "_dom_classes": [],
      "_model_module": "@jupyter-widgets/controls",
      "_model_module_version": "1.5.0",
      "_model_name": "HTMLModel",
      "_view_count": null,
      "_view_module": "@jupyter-widgets/controls",
      "_view_module_version": "1.5.0",
      "_view_name": "HTMLView",
      "description": "",
      "description_tooltip": null,
      "layout": "IPY_MODEL_96c17e023f6549aeb0be55b1c86dc2c5",
      "placeholder": "​",
      "style": "IPY_MODEL_629ac2d3525144cda10d8f28b3e381c3",
      "value": " 499M/499M [00:06&lt;00:00, 19.7MB/s]"
     }
    },
    "e3c23213eebd4d4abac45461e03cc7a9": {
     "model_module": "@jupyter-widgets/controls",
     "model_module_version": "1.5.0",
     "model_name": "DescriptionStyleModel",
     "state": {
      "_model_module": "@jupyter-widgets/controls",
      "_model_module_version": "1.5.0",
      "_model_name": "DescriptionStyleModel",
      "_view_count": null,
      "_view_module": "@jupyter-widgets/base",
      "_view_module_version": "1.2.0",
      "_view_name": "StyleView",
      "description_width": ""
     }
    },
    "e83372d4200844929e8779ea176b1e04": {
     "model_module": "@jupyter-widgets/base",
     "model_module_version": "1.2.0",
     "model_name": "LayoutModel",
     "state": {
      "_model_module": "@jupyter-widgets/base",
      "_model_module_version": "1.2.0",
      "_model_name": "LayoutModel",
      "_view_count": null,
      "_view_module": "@jupyter-widgets/base",
      "_view_module_version": "1.2.0",
      "_view_name": "LayoutView",
      "align_content": null,
      "align_items": null,
      "align_self": null,
      "border": null,
      "bottom": null,
      "display": null,
      "flex": null,
      "flex_flow": null,
      "grid_area": null,
      "grid_auto_columns": null,
      "grid_auto_flow": null,
      "grid_auto_rows": null,
      "grid_column": null,
      "grid_gap": null,
      "grid_row": null,
      "grid_template_areas": null,
      "grid_template_columns": null,
      "grid_template_rows": null,
      "height": null,
      "justify_content": null,
      "justify_items": null,
      "left": null,
      "margin": null,
      "max_height": null,
      "max_width": null,
      "min_height": null,
      "min_width": null,
      "object_fit": null,
      "object_position": null,
      "order": null,
      "overflow": null,
      "overflow_x": null,
      "overflow_y": null,
      "padding": null,
      "right": null,
      "top": null,
      "visibility": null,
      "width": null
     }
    },
    "eed77a1ae1ff4c46b01c70deb0f2e544": {
     "model_module": "@jupyter-widgets/controls",
     "model_module_version": "1.5.0",
     "model_name": "DescriptionStyleModel",
     "state": {
      "_model_module": "@jupyter-widgets/controls",
      "_model_module_version": "1.5.0",
      "_model_name": "DescriptionStyleModel",
      "_view_count": null,
      "_view_module": "@jupyter-widgets/base",
      "_view_module_version": "1.2.0",
      "_view_name": "StyleView",
      "description_width": ""
     }
    },
    "f02d31b441f1401db6e7a96618f8d80d": {
     "model_module": "@jupyter-widgets/controls",
     "model_module_version": "1.5.0",
     "model_name": "HTMLModel",
     "state": {
      "_dom_classes": [],
      "_model_module": "@jupyter-widgets/controls",
      "_model_module_version": "1.5.0",
      "_model_name": "HTMLModel",
      "_view_count": null,
      "_view_module": "@jupyter-widgets/controls",
      "_view_module_version": "1.5.0",
      "_view_name": "HTMLView",
      "description": "",
      "description_tooltip": null,
      "layout": "IPY_MODEL_92971a3afbfe44afb0f2a2565eb62d02",
      "placeholder": "​",
      "style": "IPY_MODEL_ae373b3667bf459c843e23c2d2a4f681",
      "value": " 747/747 [00:00&lt;00:00, 55.4kB/s]"
     }
    },
    "f88c3712f9b64a54870d6cb6d1cc1e14": {
     "model_module": "@jupyter-widgets/base",
     "model_module_version": "1.2.0",
     "model_name": "LayoutModel",
     "state": {
      "_model_module": "@jupyter-widgets/base",
      "_model_module_version": "1.2.0",
      "_model_name": "LayoutModel",
      "_view_count": null,
      "_view_module": "@jupyter-widgets/base",
      "_view_module_version": "1.2.0",
      "_view_name": "LayoutView",
      "align_content": null,
      "align_items": null,
      "align_self": null,
      "border": null,
      "bottom": null,
      "display": null,
      "flex": null,
      "flex_flow": null,
      "grid_area": null,
      "grid_auto_columns": null,
      "grid_auto_flow": null,
      "grid_auto_rows": null,
      "grid_column": null,
      "grid_gap": null,
      "grid_row": null,
      "grid_template_areas": null,
      "grid_template_columns": null,
      "grid_template_rows": null,
      "height": null,
      "justify_content": null,
      "justify_items": null,
      "left": null,
      "margin": null,
      "max_height": null,
      "max_width": null,
      "min_height": null,
      "min_width": null,
      "object_fit": null,
      "object_position": null,
      "order": null,
      "overflow": null,
      "overflow_x": null,
      "overflow_y": null,
      "padding": null,
      "right": null,
      "top": null,
      "visibility": null,
      "width": null
     }
    }
   }
  }
 },
 "nbformat": 4,
 "nbformat_minor": 5
}
